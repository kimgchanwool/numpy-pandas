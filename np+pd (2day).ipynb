{
 "cells": [
  {
   "cell_type": "markdown",
   "id": "3c19db9d",
   "metadata": {},
   "source": [
    "## 1.5 불리언 색인"
   ]
  },
  {
   "cell_type": "code",
   "execution_count": 1,
   "id": "bd1e9387",
   "metadata": {},
   "outputs": [],
   "source": [
    "import numpy as np"
   ]
  },
  {
   "cell_type": "code",
   "execution_count": 5,
   "id": "c72cf042",
   "metadata": {},
   "outputs": [],
   "source": [
    "names = np.array(['bob', 'joe', 'will', 'bob', 'will', 'joe', 'joe'])\n",
    "data = np.random.randn(7,4)"
   ]
  },
  {
   "cell_type": "code",
   "execution_count": 6,
   "id": "dd84d5f6",
   "metadata": {},
   "outputs": [
    {
     "data": {
      "text/plain": [
       "array(['bob', 'joe', 'will', 'bob', 'will', 'joe', 'joe'], dtype='<U4')"
      ]
     },
     "execution_count": 6,
     "metadata": {},
     "output_type": "execute_result"
    }
   ],
   "source": [
    "names"
   ]
  },
  {
   "cell_type": "code",
   "execution_count": 7,
   "id": "ce9f921f",
   "metadata": {},
   "outputs": [
    {
     "data": {
      "text/plain": [
       "array([[ 1.31316351, -0.80070335, -0.72285707, -0.67595414],\n",
       "       [-0.51046367,  1.23959242,  0.51485023,  0.07210337],\n",
       "       [ 0.46731982, -0.58545628, -1.2458592 , -0.09303036],\n",
       "       [-0.69241999,  0.7146267 , -0.6975462 , -0.38558159],\n",
       "       [-1.42529628,  0.18121236, -0.40277362,  0.11277249],\n",
       "       [-0.56362005,  1.09494736, -1.190541  ,  0.45834895],\n",
       "       [-0.59591555,  1.9483655 ,  1.57235837, -0.20327921]])"
      ]
     },
     "execution_count": 7,
     "metadata": {},
     "output_type": "execute_result"
    }
   ],
   "source": [
    "data"
   ]
  },
  {
   "cell_type": "code",
   "execution_count": 9,
   "id": "c3d5e04d",
   "metadata": {},
   "outputs": [
    {
     "data": {
      "text/plain": [
       "array([ True, False, False,  True, False, False, False])"
      ]
     },
     "execution_count": 9,
     "metadata": {},
     "output_type": "execute_result"
    }
   ],
   "source": [
    "names == 'bob' #이것조차도 모든 값에 들어가서 true false를 내보냄."
   ]
  },
  {
   "cell_type": "code",
   "execution_count": 11,
   "id": "f7e5aec0",
   "metadata": {},
   "outputs": [
    {
     "data": {
      "text/plain": [
       "array([[ 1.31316351, -0.80070335, -0.72285707, -0.67595414],\n",
       "       [-0.69241999,  0.7146267 , -0.6975462 , -0.38558159]])"
      ]
     },
     "execution_count": 11,
     "metadata": {},
     "output_type": "execute_result"
    }
   ],
   "source": [
    "data[names == 'bob'] # 인덱싱 안에있는 식의 결과에따라 true인 행의 인덱스를 받아와서 해당 인덱스의 값만 가져온다."
   ]
  },
  {
   "cell_type": "code",
   "execution_count": 12,
   "id": "0fd5c2cb",
   "metadata": {},
   "outputs": [
    {
     "data": {
      "text/plain": [
       "array([[-0.72285707, -0.67595414],\n",
       "       [-0.6975462 , -0.38558159]])"
      ]
     },
     "execution_count": 12,
     "metadata": {},
     "output_type": "execute_result"
    }
   ],
   "source": [
    "data[names == 'bob', 2:] #해당 값들 따로따로에 계산이된다. 1하고 4를 가져온는데 거기서도 각각 2번째 값부터 가져온다."
   ]
  },
  {
   "cell_type": "code",
   "execution_count": 13,
   "id": "0ed72743",
   "metadata": {},
   "outputs": [
    {
     "data": {
      "text/plain": [
       "array([-0.67595414, -0.38558159])"
      ]
     },
     "execution_count": 13,
     "metadata": {},
     "output_type": "execute_result"
    }
   ],
   "source": [
    "data[names == 'bob', 3] #이때 색인을 하면 "
   ]
  },
  {
   "cell_type": "code",
   "execution_count": 15,
   "id": "fd12e2ef",
   "metadata": {},
   "outputs": [
    {
     "data": {
      "text/plain": [
       "array([[-0.51046367,  1.23959242,  0.51485023,  0.07210337],\n",
       "       [ 0.46731982, -0.58545628, -1.2458592 , -0.09303036],\n",
       "       [-1.42529628,  0.18121236, -0.40277362,  0.11277249],\n",
       "       [-0.56362005,  1.09494736, -1.190541  ,  0.45834895],\n",
       "       [-0.59591555,  1.9483655 ,  1.57235837, -0.20327921]])"
      ]
     },
     "execution_count": 15,
     "metadata": {},
     "output_type": "execute_result"
    }
   ],
   "source": [
    "data[names != 'bob'] #false값인 0번째와 3번째의 값을 제외한 모든 값을 가져옴 1 2 4 5 6"
   ]
  },
  {
   "cell_type": "code",
   "execution_count": 14,
   "id": "ed2b8d21",
   "metadata": {},
   "outputs": [
    {
     "data": {
      "text/plain": [
       "array([False,  True,  True, False,  True,  True,  True])"
      ]
     },
     "execution_count": 14,
     "metadata": {},
     "output_type": "execute_result"
    }
   ],
   "source": [
    "~(names == 'bob') #~이 붙어서 기존 true 였던 0번,3번의 값을 제외함"
   ]
  },
  {
   "cell_type": "code",
   "execution_count": 16,
   "id": "72df14a5",
   "metadata": {
    "scrolled": true
   },
   "outputs": [
    {
     "data": {
      "text/plain": [
       "array([[-0.51046367,  1.23959242,  0.51485023,  0.07210337],\n",
       "       [ 0.46731982, -0.58545628, -1.2458592 , -0.09303036],\n",
       "       [-1.42529628,  0.18121236, -0.40277362,  0.11277249],\n",
       "       [-0.56362005,  1.09494736, -1.190541  ,  0.45834895],\n",
       "       [-0.59591555,  1.9483655 ,  1.57235837, -0.20327921]])"
      ]
     },
     "execution_count": 16,
     "metadata": {},
     "output_type": "execute_result"
    }
   ],
   "source": [
    "data[~(names == 'bob')] #1 2 4 5 6 을 가져옴."
   ]
  },
  {
   "cell_type": "code",
   "execution_count": 19,
   "id": "91da1f7b",
   "metadata": {},
   "outputs": [],
   "source": [
    "cond = (names == 'Bob')"
   ]
  },
  {
   "cell_type": "code",
   "execution_count": 20,
   "id": "4b5e6a8a",
   "metadata": {},
   "outputs": [
    {
     "data": {
      "text/plain": [
       "array([[ 1.31316351, -0.80070335, -0.72285707, -0.67595414],\n",
       "       [-0.51046367,  1.23959242,  0.51485023,  0.07210337],\n",
       "       [ 0.46731982, -0.58545628, -1.2458592 , -0.09303036],\n",
       "       [-0.69241999,  0.7146267 , -0.6975462 , -0.38558159],\n",
       "       [-1.42529628,  0.18121236, -0.40277362,  0.11277249],\n",
       "       [-0.56362005,  1.09494736, -1.190541  ,  0.45834895],\n",
       "       [-0.59591555,  1.9483655 ,  1.57235837, -0.20327921]])"
      ]
     },
     "execution_count": 20,
     "metadata": {},
     "output_type": "execute_result"
    }
   ],
   "source": [
    "data[~cond] #names != 'bob'와 같음"
   ]
  },
  {
   "cell_type": "code",
   "execution_count": 23,
   "id": "4ab69c51",
   "metadata": {},
   "outputs": [],
   "source": [
    "mask = (names == 'bob') | (names == 'will') # or연산자."
   ]
  },
  {
   "cell_type": "code",
   "execution_count": 24,
   "id": "5aecd6a1",
   "metadata": {},
   "outputs": [
    {
     "data": {
      "text/plain": [
       "array([[ 1.31316351, -0.80070335, -0.72285707, -0.67595414],\n",
       "       [ 0.46731982, -0.58545628, -1.2458592 , -0.09303036],\n",
       "       [-0.69241999,  0.7146267 , -0.6975462 , -0.38558159],\n",
       "       [-1.42529628,  0.18121236, -0.40277362,  0.11277249]])"
      ]
     },
     "execution_count": 24,
     "metadata": {},
     "output_type": "execute_result"
    }
   ],
   "source": [
    "data[mask]"
   ]
  },
  {
   "cell_type": "code",
   "execution_count": 26,
   "id": "b6761dce",
   "metadata": {},
   "outputs": [
    {
     "data": {
      "text/plain": [
       "array([[False,  True,  True,  True],\n",
       "       [ True, False, False, False],\n",
       "       [False,  True,  True,  True],\n",
       "       [ True, False,  True,  True],\n",
       "       [ True, False,  True, False],\n",
       "       [ True, False,  True, False],\n",
       "       [ True, False, False,  True]])"
      ]
     },
     "execution_count": 26,
     "metadata": {},
     "output_type": "execute_result"
    }
   ],
   "source": [
    "data < 0 #음수인애들은 true다."
   ]
  },
  {
   "cell_type": "code",
   "execution_count": 404,
   "id": "8649ff80",
   "metadata": {},
   "outputs": [
    {
     "data": {
      "text/plain": [
       "array([[ 1.31316351, -0.80070335, -0.72285707, -0.67595414],\n",
       "       [-0.51046367,  1.23959242,  0.51485023,  0.07210337],\n",
       "       [ 0.46731982, -0.58545628, -1.2458592 , -0.09303036],\n",
       "       [-0.69241999,  0.7146267 , -0.6975462 , -0.38558159],\n",
       "       [-1.42529628,  0.18121236, -0.40277362,  0.11277249],\n",
       "       [-0.56362005,  1.09494736, -1.190541  ,  0.45834895],\n",
       "       [-0.59591555,  1.9483655 ,  1.57235837, -0.20327921]])"
      ]
     },
     "execution_count": 404,
     "metadata": {},
     "output_type": "execute_result"
    }
   ],
   "source": [
    "data[data < 0] #이런식으로 원하는 값을 고를수 있다.\n",
    "data"
   ]
  },
  {
   "cell_type": "code",
   "execution_count": 31,
   "id": "396c83a4",
   "metadata": {},
   "outputs": [
    {
     "data": {
      "text/plain": [
       "array([ True, False,  True,  True,  True, False, False])"
      ]
     },
     "execution_count": 31,
     "metadata": {},
     "output_type": "execute_result"
    }
   ],
   "source": [
    "names != 'joe'"
   ]
  },
  {
   "cell_type": "code",
   "execution_count": 34,
   "id": "4dcff84b",
   "metadata": {},
   "outputs": [
    {
     "data": {
      "text/plain": [
       "array([[ 1.31316351, -0.80070335, -0.72285707, -0.67595414],\n",
       "       [-0.51046367,  1.23959242,  0.51485023,  0.07210337],\n",
       "       [ 0.46731982, -0.58545628, -1.2458592 , -0.09303036],\n",
       "       [-0.69241999,  0.7146267 , -0.6975462 , -0.38558159],\n",
       "       [-1.42529628,  0.18121236, -0.40277362,  0.11277249],\n",
       "       [-0.56362005,  1.09494736, -1.190541  ,  0.45834895],\n",
       "       [-0.59591555,  1.9483655 ,  1.57235837, -0.20327921]])"
      ]
     },
     "execution_count": 34,
     "metadata": {},
     "output_type": "execute_result"
    }
   ],
   "source": [
    "data[names != 'joe'] # 자세하 설명하자면 색인과는 다르다. 그래서 배열이 유지되는 것이고 해당 값에서 식에 해당하는 행만 가져온다.\n",
    "data"
   ]
  },
  {
   "cell_type": "code",
   "execution_count": 39,
   "id": "70bd6a97",
   "metadata": {},
   "outputs": [
    {
     "data": {
      "text/plain": [
       "array([ True, False, False,  True, False, False, False])"
      ]
     },
     "execution_count": 39,
     "metadata": {},
     "output_type": "execute_result"
    }
   ],
   "source": [
    "(names == 'bob')"
   ]
  },
  {
   "cell_type": "code",
   "execution_count": 40,
   "id": "30d491ba",
   "metadata": {},
   "outputs": [
    {
     "data": {
      "text/plain": [
       "array([False,  True,  True, False,  True,  True,  True])"
      ]
     },
     "execution_count": 40,
     "metadata": {},
     "output_type": "execute_result"
    }
   ],
   "source": [
    "~(names == 'bob')"
   ]
  },
  {
   "cell_type": "markdown",
   "id": "6b2437bc",
   "metadata": {},
   "source": [
    "## 1.6 팬시 색인"
   ]
  },
  {
   "cell_type": "code",
   "execution_count": 45,
   "id": "055328df",
   "metadata": {},
   "outputs": [
    {
     "data": {
      "text/plain": [
       "array([[0., 0., 0., 0.],\n",
       "       [1., 1., 1., 1.],\n",
       "       [2., 2., 2., 2.],\n",
       "       [3., 3., 3., 3.],\n",
       "       [4., 4., 4., 4.],\n",
       "       [5., 5., 5., 5.],\n",
       "       [6., 6., 6., 6.],\n",
       "       [7., 7., 7., 7.]])"
      ]
     },
     "execution_count": 45,
     "metadata": {},
     "output_type": "execute_result"
    }
   ],
   "source": [
    "arr = np.empty((8, 4))\n",
    "for i in range(8):\n",
    "    arr[i] = i\n",
    "arr        "
   ]
  },
  {
   "cell_type": "code",
   "execution_count": 48,
   "id": "b3c59f0f",
   "metadata": {},
   "outputs": [
    {
     "data": {
      "text/plain": [
       "array([[4., 4., 4., 4.],\n",
       "       [3., 3., 3., 3.],\n",
       "       [1., 1., 1., 1.],\n",
       "       [6., 6., 6., 6.]])"
      ]
     },
     "execution_count": 48,
     "metadata": {},
     "output_type": "execute_result"
    }
   ],
   "source": [
    "arr[[4, 3, 1, 6]] #팬시 색인이라고 이런식으로 리스트에 있는 요소의 행을 순서대로 가져옴"
   ]
  },
  {
   "cell_type": "code",
   "execution_count": 51,
   "id": "74aab9ec",
   "metadata": {},
   "outputs": [
    {
     "data": {
      "text/plain": [
       "array([[7., 7., 7., 7.]])"
      ]
     },
     "execution_count": 51,
     "metadata": {},
     "output_type": "execute_result"
    }
   ],
   "source": [
    "arr[[-1]] #기존 슬라이싱과 더불어 음수형도 가능하다."
   ]
  },
  {
   "cell_type": "code",
   "execution_count": 52,
   "id": "a1b50e5f",
   "metadata": {},
   "outputs": [
    {
     "data": {
      "text/plain": [
       "array([[5., 5., 5., 5.],\n",
       "       [3., 3., 3., 3.],\n",
       "       [7., 7., 7., 7.]])"
      ]
     },
     "execution_count": 52,
     "metadata": {},
     "output_type": "execute_result"
    }
   ],
   "source": [
    "arr[[-3, -5, -1]]"
   ]
  },
  {
   "cell_type": "code",
   "execution_count": 58,
   "id": "3eeafca3",
   "metadata": {},
   "outputs": [
    {
     "data": {
      "text/plain": [
       "array([[ 0,  1],\n",
       "       [ 2,  3],\n",
       "       [ 4,  5],\n",
       "       [ 6,  7],\n",
       "       [ 8,  9],\n",
       "       [10, 11],\n",
       "       [12, 13],\n",
       "       [14, 15],\n",
       "       [16, 17],\n",
       "       [18, 19],\n",
       "       [20, 21],\n",
       "       [22, 23],\n",
       "       [24, 25],\n",
       "       [26, 27],\n",
       "       [28, 29],\n",
       "       [30, 31]])"
      ]
     },
     "execution_count": 58,
     "metadata": {},
     "output_type": "execute_result"
    }
   ],
   "source": [
    "arr = np.arange(32).reshape((8, 4)) #짝이 맞아야함 맞는다면 해당 식에 따르면 4개의 요소씩 묶어서 8개의 행을 만든다.\n",
    "np.arange(32).reshape((16, 2)) #짝이 맞는지 보는 법은 x * y... 이런 식이다.\n",
    "#arange이기 때문에 순서대로 나옴 range의 특성"
   ]
  },
  {
   "cell_type": "code",
   "execution_count": 59,
   "id": "05a184c0",
   "metadata": {},
   "outputs": [
    {
     "data": {
      "text/plain": [
       "array([[ 4,  5,  6,  7],\n",
       "       [20, 21, 22, 23],\n",
       "       [28, 29, 30, 31],\n",
       "       [ 8,  9, 10, 11]])"
      ]
     },
     "execution_count": 59,
     "metadata": {},
     "output_type": "execute_result"
    }
   ],
   "source": [
    "arr[[1, 5, 7, 2]]"
   ]
  },
  {
   "cell_type": "code",
   "execution_count": 60,
   "id": "8c32b90c",
   "metadata": {},
   "outputs": [
    {
     "data": {
      "text/plain": [
       "array([ 4, 23, 29, 10])"
      ]
     },
     "execution_count": 60,
     "metadata": {},
     "output_type": "execute_result"
    }
   ],
   "source": [
    "arr[[1, 5, 7, 2], [0, 3, 1, 2]] #각각에 계산하기에 1,0  5,3  7,1  2,2 로 해당 행과 열에 맞는 값이 묶어서 나온다."
   ]
  },
  {
   "cell_type": "code",
   "execution_count": 65,
   "id": "ae6760cd",
   "metadata": {},
   "outputs": [
    {
     "data": {
      "text/plain": [
       "array([[ 4,  7,  5,  6],\n",
       "       [20, 23, 21, 22],\n",
       "       [28, 31, 29, 30],\n",
       "       [ 8, 11,  9, 10]])"
      ]
     },
     "execution_count": 65,
     "metadata": {},
     "output_type": "execute_result"
    }
   ],
   "source": [
    "arr[[1, 5, 7, 2]][:,[0, 3, 1, 2]] #이런 식의 색인이면 슬라이싱 처럼 사용 가능. \n",
    "#이런식으로 행을 전체에 대해서 0,3,1,2번째 순으로 가져오겠다 라고하면 모든 행에서 해당 순서로 값을 가져온다."
   ]
  },
  {
   "cell_type": "markdown",
   "id": "fa6e9a1b",
   "metadata": {},
   "source": [
    "### 1.7 배열 전치와 축바꾸기"
   ]
  },
  {
   "cell_type": "code",
   "execution_count": 68,
   "id": "d5545d84",
   "metadata": {},
   "outputs": [
    {
     "data": {
      "text/plain": [
       "array([[ 0,  1,  2,  3,  4],\n",
       "       [ 5,  6,  7,  8,  9],\n",
       "       [10, 11, 12, 13, 14]])"
      ]
     },
     "execution_count": 68,
     "metadata": {},
     "output_type": "execute_result"
    }
   ],
   "source": [
    "arr = np.arange(15).reshape((3, 5))\n",
    "arr"
   ]
  },
  {
   "cell_type": "code",
   "execution_count": 70,
   "id": "fd5f096e",
   "metadata": {},
   "outputs": [
    {
     "data": {
      "text/plain": [
       "array([[ 0,  5, 10],\n",
       "       [ 1,  6, 11],\n",
       "       [ 2,  7, 12],\n",
       "       [ 3,  8, 13],\n",
       "       [ 4,  9, 14]])"
      ]
     },
     "execution_count": 70,
     "metadata": {},
     "output_type": "execute_result"
    }
   ],
   "source": [
    "arr.T # 피벗과 같은 기능으로 3,5를 5,3처럼 가로 세로를 역으로 바꿔준다. 배열조차도 달라진다. (i, j)에서 i와 j의 좌표가 바뀐다. 대칭 이동?"
   ]
  },
  {
   "cell_type": "code",
   "execution_count": 97,
   "id": "7f8cd31d",
   "metadata": {},
   "outputs": [],
   "source": [
    "arr = np.random.randn(6, 3)"
   ]
  },
  {
   "cell_type": "code",
   "execution_count": 85,
   "id": "ee7756f6",
   "metadata": {},
   "outputs": [
    {
     "data": {
      "text/plain": [
       "array([[-0.44391662, -0.18754403,  1.08900828],\n",
       "       [-0.90861553,  0.15934563,  1.54455593],\n",
       "       [-0.52450265,  0.81069938,  0.77527268],\n",
       "       [ 1.03386562, -0.96070175, -0.36759823],\n",
       "       [-1.61912426,  0.39796988, -0.70699526],\n",
       "       [ 0.98651767,  0.89714904, -0.38600734]])"
      ]
     },
     "execution_count": 85,
     "metadata": {},
     "output_type": "execute_result"
    }
   ],
   "source": [
    "arr"
   ]
  },
  {
   "cell_type": "code",
   "execution_count": 73,
   "id": "2a3b97b1",
   "metadata": {},
   "outputs": [
    {
     "data": {
      "text/plain": [
       "(6, 3)"
      ]
     },
     "execution_count": 73,
     "metadata": {},
     "output_type": "execute_result"
    }
   ],
   "source": [
    "arr.shape"
   ]
  },
  {
   "cell_type": "code",
   "execution_count": 74,
   "id": "c452d1ed",
   "metadata": {},
   "outputs": [
    {
     "ename": "TypeError",
     "evalue": "dot() missing 1 required positional argument: 'b'",
     "output_type": "error",
     "traceback": [
      "\u001b[1;31m---------------------------------------------------------------------------\u001b[0m",
      "\u001b[1;31mTypeError\u001b[0m                                 Traceback (most recent call last)",
      "\u001b[1;32m<ipython-input-74-543d93014971>\u001b[0m in \u001b[0;36m<module>\u001b[1;34m\u001b[0m\n\u001b[1;32m----> 1\u001b[1;33m \u001b[0mnp\u001b[0m\u001b[1;33m.\u001b[0m\u001b[0mdot\u001b[0m\u001b[1;33m(\u001b[0m\u001b[0marr\u001b[0m \u001b[1;33m*\u001b[0m \u001b[0marr\u001b[0m\u001b[1;33m)\u001b[0m \u001b[1;31m#이건 불가능 6,3은 무조건 3,6이어야만 행렬연산이 가능하다 역의 shape인 경우에 적합\u001b[0m\u001b[1;33m\u001b[0m\u001b[1;33m\u001b[0m\u001b[0m\n\u001b[0m",
      "\u001b[1;32m<__array_function__ internals>\u001b[0m in \u001b[0;36mdot\u001b[1;34m(*args, **kwargs)\u001b[0m\n",
      "\u001b[1;31mTypeError\u001b[0m: dot() missing 1 required positional argument: 'b'"
     ]
    }
   ],
   "source": [
    "np.dot(arr * arr) #이건 불가능 6,3은 무조건 3,6이어야만 행렬연산이 가능하다 역의 shape인 경우에 적합"
   ]
  },
  {
   "cell_type": "code",
   "execution_count": 78,
   "id": "6bda14a1",
   "metadata": {},
   "outputs": [
    {
     "data": {
      "text/plain": [
       "(3, 6)"
      ]
     },
     "execution_count": 78,
     "metadata": {},
     "output_type": "execute_result"
    }
   ],
   "source": [
    "arr.T.shape #이런식으로 행과 열을 뒤집어야 자기 자신하고 계산 가능 #행렬계산 공부하자."
   ]
  },
  {
   "cell_type": "code",
   "execution_count": 79,
   "id": "7fd3fd81",
   "metadata": {
    "scrolled": true
   },
   "outputs": [
    {
     "data": {
      "text/plain": [
       "array([[ 6.36538458, -4.39668961,  0.69937838],\n",
       "       [-4.39668961,  7.68216456, -2.43430594],\n",
       "       [ 0.69937838, -2.43430594,  2.63740928]])"
      ]
     },
     "execution_count": 79,
     "metadata": {},
     "output_type": "execute_result"
    }
   ],
   "source": [
    "np.dot(arr.T, arr)"
   ]
  },
  {
   "cell_type": "code",
   "execution_count": 87,
   "id": "96eefc22",
   "metadata": {},
   "outputs": [
    {
     "data": {
      "text/plain": [
       "array([[-0.44391662, -0.90861553, -0.52450265,  1.03386562, -1.61912426,\n",
       "         0.98651767],\n",
       "       [-0.18754403,  0.15934563,  0.81069938, -0.96070175,  0.39796988,\n",
       "         0.89714904],\n",
       "       [ 1.08900828,  1.54455593,  0.77527268, -0.36759823, -0.70699526,\n",
       "        -0.38600734]])"
      ]
     },
     "execution_count": 87,
     "metadata": {},
     "output_type": "execute_result"
    }
   ],
   "source": [
    "arr.T #이거는 3차원은 안된다. 2차원만 가능"
   ]
  },
  {
   "cell_type": "code",
   "execution_count": 88,
   "id": "71f1b1fe",
   "metadata": {
    "scrolled": true
   },
   "outputs": [
    {
     "data": {
      "text/plain": [
       "array([[-0.44391662, -0.90861553, -0.52450265,  1.03386562, -1.61912426,\n",
       "         0.98651767],\n",
       "       [-0.18754403,  0.15934563,  0.81069938, -0.96070175,  0.39796988,\n",
       "         0.89714904],\n",
       "       [ 1.08900828,  1.54455593,  0.77527268, -0.36759823, -0.70699526,\n",
       "        -0.38600734]])"
      ]
     },
     "execution_count": 88,
     "metadata": {},
     "output_type": "execute_result"
    }
   ],
   "source": [
    "arr.transpose() # arr.T와 같다."
   ]
  },
  {
   "cell_type": "code",
   "execution_count": 99,
   "id": "8f43a4f2",
   "metadata": {},
   "outputs": [
    {
     "data": {
      "text/plain": [
       "array([[-0.38209988, -0.29860874, -0.769353  , -1.33884793,  0.15886056,\n",
       "        -1.52879827],\n",
       "       [-0.27312678,  0.41839149,  1.8741672 , -1.01294089,  1.00342385,\n",
       "         1.51921889],\n",
       "       [-0.12295372, -1.46374277,  0.35732444,  1.13444714,  0.10824032,\n",
       "        -0.27924184]])"
      ]
     },
     "execution_count": 99,
     "metadata": {},
     "output_type": "execute_result"
    }
   ],
   "source": [
    "arr.transpose(1,0) #이런식으로 (3, 6)이던 것을 (6, 3)으로 축 이동을 함."
   ]
  },
  {
   "cell_type": "code",
   "execution_count": 103,
   "id": "b18a4c24",
   "metadata": {},
   "outputs": [
    {
     "data": {
      "text/plain": [
       "array([[[ 0,  1,  2,  3],\n",
       "        [ 4,  5,  6,  7]],\n",
       "\n",
       "       [[ 8,  9, 10, 11],\n",
       "        [12, 13, 14, 15]]])"
      ]
     },
     "execution_count": 103,
     "metadata": {},
     "output_type": "execute_result"
    }
   ],
   "source": [
    "arr = np.arange(16).reshape((2, 2, 4))\n",
    "arr #arange로 0부터 15까지 범위의 0행만가진 열을 만들고 이를 reshape로 행과 열을 나눠줌"
   ]
  },
  {
   "cell_type": "code",
   "execution_count": 104,
   "id": "60a064a6",
   "metadata": {},
   "outputs": [
    {
     "data": {
      "text/plain": [
       "array([[[ 0,  8],\n",
       "        [ 4, 12]],\n",
       "\n",
       "       [[ 1,  9],\n",
       "        [ 5, 13]],\n",
       "\n",
       "       [[ 2, 10],\n",
       "        [ 6, 14]],\n",
       "\n",
       "       [[ 3, 11],\n",
       "        [ 7, 15]]])"
      ]
     },
     "execution_count": 104,
     "metadata": {},
     "output_type": "execute_result"
    }
   ],
   "source": [
    "arr. transpose() #0번축과 1번축을 바꿈. 3차원이라서 복잡해짐. 4, 2, 2의 형태임"
   ]
  },
  {
   "cell_type": "code",
   "execution_count": 105,
   "id": "61d0a51f",
   "metadata": {},
   "outputs": [
    {
     "data": {
      "text/plain": [
       "array([[[ 0,  1,  2,  3],\n",
       "        [ 8,  9, 10, 11]],\n",
       "\n",
       "       [[ 4,  5,  6,  7],\n",
       "        [12, 13, 14, 15]]])"
      ]
     },
     "execution_count": 105,
     "metadata": {},
     "output_type": "execute_result"
    }
   ],
   "source": [
    "arr.transpose(1,0,2) #원본은 0, 1, 2인데 0과 1의 위치를 바꾼 2, 2, 4에서 2, 2, 4로 바뀜 두개가 같아서 차이가 없어 보이는 것 뿐."
   ]
  },
  {
   "cell_type": "code",
   "execution_count": 107,
   "id": "a6283620",
   "metadata": {},
   "outputs": [
    {
     "data": {
      "text/plain": [
       "array([[[ 0,  4],\n",
       "        [ 1,  5],\n",
       "        [ 2,  6],\n",
       "        [ 3,  7]],\n",
       "\n",
       "       [[ 8, 12],\n",
       "        [ 9, 13],\n",
       "        [10, 14],\n",
       "        [11, 15]]])"
      ]
     },
     "execution_count": 107,
     "metadata": {},
     "output_type": "execute_result"
    }
   ],
   "source": [
    "arr.swapaxes(1, 2)"
   ]
  },
  {
   "cell_type": "markdown",
   "id": "26d9c8da",
   "metadata": {},
   "source": [
    "# 2. 유니버설 함수"
   ]
  },
  {
   "cell_type": "markdown",
   "id": "8e5c01b3",
   "metadata": {},
   "source": [
    "### 유니버설 함수는 ndarray에 있는 데이터의 원소에 일괄 적용하는 함수"
   ]
  },
  {
   "cell_type": "code",
   "execution_count": 108,
   "id": "fd1586fe",
   "metadata": {},
   "outputs": [
    {
     "data": {
      "text/plain": [
       "array([0, 1, 2, 3, 4, 5, 6, 7, 8, 9])"
      ]
     },
     "execution_count": 108,
     "metadata": {},
     "output_type": "execute_result"
    }
   ],
   "source": [
    "arr = np.arange(10)\n",
    "arr"
   ]
  },
  {
   "cell_type": "code",
   "execution_count": 109,
   "id": "83007801",
   "metadata": {},
   "outputs": [
    {
     "data": {
      "text/plain": [
       "array([0.        , 1.        , 1.41421356, 1.73205081, 2.        ,\n",
       "       2.23606798, 2.44948974, 2.64575131, 2.82842712, 3.        ])"
      ]
     },
     "execution_count": 109,
     "metadata": {},
     "output_type": "execute_result"
    }
   ],
   "source": [
    "np.sqrt(arr) #제곱근 구해줌"
   ]
  },
  {
   "cell_type": "code",
   "execution_count": 111,
   "id": "1d426c0d",
   "metadata": {},
   "outputs": [
    {
     "data": {
      "text/plain": [
       "array([1.00000000e+00, 2.71828183e+00, 7.38905610e+00, 2.00855369e+01,\n",
       "       5.45981500e+01, 1.48413159e+02, 4.03428793e+02, 1.09663316e+03,\n",
       "       2.98095799e+03, 8.10308393e+03])"
      ]
     },
     "execution_count": 111,
     "metadata": {},
     "output_type": "execute_result"
    }
   ],
   "source": [
    "np.exp(arr) #지수승을 구해줌."
   ]
  },
  {
   "cell_type": "code",
   "execution_count": 112,
   "id": "b8616fb3",
   "metadata": {},
   "outputs": [],
   "source": [
    "x = np.random.randn(8)\n",
    "y = np.random.randn(8)"
   ]
  },
  {
   "cell_type": "code",
   "execution_count": 113,
   "id": "cb673100",
   "metadata": {},
   "outputs": [
    {
     "data": {
      "text/plain": [
       "(array([ 0.18406776,  0.41558645,  0.34976241,  1.55291791,  1.62097852,\n",
       "         0.53960114, -0.55138749, -0.23284262]),\n",
       " array([-2.40945538,  0.61223009,  0.87753593,  1.0135388 , -0.20452504,\n",
       "        -1.16934187, -1.11063028,  0.50668413]))"
      ]
     },
     "execution_count": 113,
     "metadata": {},
     "output_type": "execute_result"
    }
   ],
   "source": [
    "x, y"
   ]
  },
  {
   "cell_type": "code",
   "execution_count": 115,
   "id": "646eead5",
   "metadata": {},
   "outputs": [
    {
     "data": {
      "text/plain": [
       "array([ 0.18406776,  0.61223009,  0.87753593,  1.55291791,  1.62097852,\n",
       "        0.53960114, -0.55138749,  0.50668413])"
      ]
     },
     "execution_count": 115,
     "metadata": {},
     "output_type": "execute_result"
    }
   ],
   "source": [
    "np.maximum(x, y) # x행렬과 y행렬에서 대응하는 원소에 대해더 큰값을 뽑아낸다."
   ]
  },
  {
   "cell_type": "code",
   "execution_count": 116,
   "id": "9bec02c0",
   "metadata": {},
   "outputs": [
    {
     "data": {
      "text/plain": [
       "array([ 2.82949839, -1.71200596,  3.82775734, -5.51785335,  3.62449931,\n",
       "        0.19253447, -0.34280957])"
      ]
     },
     "execution_count": 116,
     "metadata": {},
     "output_type": "execute_result"
    }
   ],
   "source": [
    "arr = np.random.randn(7) * 5\n",
    "arr"
   ]
  },
  {
   "cell_type": "code",
   "execution_count": 118,
   "id": "bd5882a0",
   "metadata": {},
   "outputs": [],
   "source": [
    "remainder, whole_part = np.modf(arr) #상수부와 실수부를 나눠서 2개의 행렬을 리턴한다."
   ]
  },
  {
   "cell_type": "code",
   "execution_count": 119,
   "id": "a49678de",
   "metadata": {},
   "outputs": [
    {
     "data": {
      "text/plain": [
       "array([ 0.82949839, -0.71200596,  0.82775734, -0.51785335,  0.62449931,\n",
       "        0.19253447, -0.34280957])"
      ]
     },
     "execution_count": 119,
     "metadata": {},
     "output_type": "execute_result"
    }
   ],
   "source": [
    "remainder #실수부 먼저"
   ]
  },
  {
   "cell_type": "code",
   "execution_count": 120,
   "id": "2b0421b6",
   "metadata": {},
   "outputs": [
    {
     "data": {
      "text/plain": [
       "array([ 2., -1.,  3., -5.,  3.,  0., -0.])"
      ]
     },
     "execution_count": 120,
     "metadata": {},
     "output_type": "execute_result"
    }
   ],
   "source": [
    "whole_part #상수부 나중."
   ]
  },
  {
   "cell_type": "code",
   "execution_count": 127,
   "id": "e0faac32",
   "metadata": {},
   "outputs": [
    {
     "data": {
      "text/plain": [
       "array([0, 1, 2, 3, 4, 5, 6, 7, 8, 9])"
      ]
     },
     "execution_count": 127,
     "metadata": {},
     "output_type": "execute_result"
    }
   ],
   "source": [
    "arr = np.arange(10)\n",
    "arr"
   ]
  },
  {
   "cell_type": "code",
   "execution_count": 128,
   "id": "20afde6c",
   "metadata": {},
   "outputs": [
    {
     "data": {
      "text/plain": [
       "array([0.        , 1.        , 1.41421356, 1.73205081, 2.        ,\n",
       "       2.23606798, 2.44948974, 2.64575131, 2.82842712, 3.        ])"
      ]
     },
     "execution_count": 128,
     "metadata": {},
     "output_type": "execute_result"
    }
   ],
   "source": [
    "np.sqrt(arr)"
   ]
  },
  {
   "cell_type": "code",
   "execution_count": 129,
   "id": "d9f4a71a",
   "metadata": {},
   "outputs": [
    {
     "data": {
      "text/plain": [
       "array([0, 1, 2, 3, 4, 5, 6, 7, 8, 9])"
      ]
     },
     "execution_count": 129,
     "metadata": {},
     "output_type": "execute_result"
    }
   ],
   "source": [
    "arr"
   ]
  },
  {
   "cell_type": "code",
   "execution_count": 130,
   "id": "ec6685fd",
   "metadata": {},
   "outputs": [],
   "source": [
    "out = np.empty(10)"
   ]
  },
  {
   "cell_type": "code",
   "execution_count": 131,
   "id": "6369f201",
   "metadata": {},
   "outputs": [
    {
     "data": {
      "text/plain": [
       "array([0.        , 1.        , 1.41421356, 1.73205081, 2.        ,\n",
       "       2.23606798, 2.44948974, 2.64575131, 2.82842712, 3.        ])"
      ]
     },
     "execution_count": 131,
     "metadata": {},
     "output_type": "execute_result"
    }
   ],
   "source": [
    "np.sqrt(arr, out) #input과 output입력 가능"
   ]
  },
  {
   "cell_type": "code",
   "execution_count": 132,
   "id": "72a5c3d7",
   "metadata": {},
   "outputs": [
    {
     "data": {
      "text/plain": [
       "array([0.        , 1.        , 1.41421356, 1.73205081, 2.        ,\n",
       "       2.23606798, 2.44948974, 2.64575131, 2.82842712, 3.        ])"
      ]
     },
     "execution_count": 132,
     "metadata": {},
     "output_type": "execute_result"
    }
   ],
   "source": [
    "out"
   ]
  },
  {
   "cell_type": "code",
   "execution_count": 133,
   "id": "e5f9ce6e",
   "metadata": {},
   "outputs": [
    {
     "data": {
      "text/plain": [
       "array([0, 1, 2, 3, 4, 5, 6, 7, 8, 9])"
      ]
     },
     "execution_count": 133,
     "metadata": {},
     "output_type": "execute_result"
    }
   ],
   "source": [
    "arr #input은 바뀌지 않음."
   ]
  },
  {
   "cell_type": "markdown",
   "id": "92c9b6b0",
   "metadata": {},
   "source": [
    "### (실습) 거리 계산 (파이썬 vs 넘파이)"
   ]
  },
  {
   "cell_type": "markdown",
   "id": "648fa98a",
   "metadata": {},
   "source": [
    "* 피타고라스 정리 기억하자 a^2 = b^2 + c^2이다"
   ]
  },
  {
   "cell_type": "code",
   "execution_count": 175,
   "id": "74a29db0",
   "metadata": {},
   "outputs": [
    {
     "data": {
      "text/plain": [
       "array([2.23606798, 1.41421356, 5.        ])"
      ]
     },
     "execution_count": 175,
     "metadata": {},
     "output_type": "execute_result"
    }
   ],
   "source": [
    "a = [1, 1]\n",
    "b = [3, 2]\n",
    "c = [5 ,7]\n",
    "x = [2, 3]\n",
    "import numpy as np\n",
    "\n",
    "for_arr = np.array((a, b, c))\n",
    "x_arr = np.array(x)\n",
    "arr = for_arr - x_arr\n",
    "arr = np.sqrt(arr[:,0]**2 + arr[:,1]**2)\n",
    "arr"
   ]
  },
  {
   "cell_type": "code",
   "execution_count": 171,
   "id": "2dd8842a",
   "metadata": {},
   "outputs": [],
   "source": [
    "import math\n",
    "\n",
    "def distMeasure(x, a, b, c):\n",
    "    a_x = math.sqrt((a[0] - x[0]) **2 + (a[1] - x[1]) **2)\n",
    "    b_x = math.sqrt((b[0] - x[0]) **2 + (b[1] - x[1]) **2)\n",
    "    c_x = math.sqrt((c[0] - x[0]) **2 + (c[1] - x[1]) **2)\n",
    "    return a_x, b_x, c_x\n"
   ]
  },
  {
   "cell_type": "code",
   "execution_count": 173,
   "id": "584d9973",
   "metadata": {},
   "outputs": [
    {
     "data": {
      "text/plain": [
       "(2.23606797749979, 1.4142135623730951, 5.0)"
      ]
     },
     "execution_count": 173,
     "metadata": {},
     "output_type": "execute_result"
    }
   ],
   "source": [
    "distMeasure(x, a, b, c)"
   ]
  },
  {
   "cell_type": "markdown",
   "id": "e59187ca",
   "metadata": {},
   "source": [
    "# 3. 배열을 이용한 프로그래밍"
   ]
  },
  {
   "cell_type": "markdown",
   "id": "a6c13485",
   "metadata": {},
   "source": [
    "* meshgrid 참고"
   ]
  },
  {
   "cell_type": "code",
   "execution_count": 177,
   "id": "9ee300db",
   "metadata": {},
   "outputs": [
    {
     "data": {
      "text/plain": [
       "[array([[1, 2, 3],\n",
       "        [1, 2, 3],\n",
       "        [1, 2, 3]]),\n",
       " array([[4, 4, 4],\n",
       "        [5, 5, 5],\n",
       "        [6, 6, 6]])]"
      ]
     },
     "execution_count": 177,
     "metadata": {},
     "output_type": "execute_result"
    }
   ],
   "source": [
    "x = np.array([1, 2, 3])\n",
    "y = np.array([4, 5, 6])\n",
    "np.meshgrid(x, y) #위 아래의 형식이 조금 다르다."
   ]
  },
  {
   "cell_type": "markdown",
   "id": "cbf53f5d",
   "metadata": {},
   "source": [
    "* meshgrid 참고 끝"
   ]
  },
  {
   "cell_type": "code",
   "execution_count": null,
   "id": "ce9bda93",
   "metadata": {},
   "outputs": [],
   "source": []
  },
  {
   "cell_type": "code",
   "execution_count": null,
   "id": "ffc70549",
   "metadata": {},
   "outputs": [],
   "source": [
    "range(start, stop, step)"
   ]
  },
  {
   "cell_type": "code",
   "execution_count": null,
   "id": "a81a6d28",
   "metadata": {},
   "outputs": [],
   "source": [
    "np.arange(start, stop, step)"
   ]
  },
  {
   "cell_type": "code",
   "execution_count": 176,
   "id": "2bfc0106",
   "metadata": {},
   "outputs": [
    {
     "data": {
      "text/plain": [
       "array([-5.0000000e+00, -4.9900000e+00, -4.9800000e+00, -4.9700000e+00,\n",
       "       -4.9600000e+00, -4.9500000e+00, -4.9400000e+00, -4.9300000e+00,\n",
       "       -4.9200000e+00, -4.9100000e+00, -4.9000000e+00, -4.8900000e+00,\n",
       "       -4.8800000e+00, -4.8700000e+00, -4.8600000e+00, -4.8500000e+00,\n",
       "       -4.8400000e+00, -4.8300000e+00, -4.8200000e+00, -4.8100000e+00,\n",
       "       -4.8000000e+00, -4.7900000e+00, -4.7800000e+00, -4.7700000e+00,\n",
       "       -4.7600000e+00, -4.7500000e+00, -4.7400000e+00, -4.7300000e+00,\n",
       "       -4.7200000e+00, -4.7100000e+00, -4.7000000e+00, -4.6900000e+00,\n",
       "       -4.6800000e+00, -4.6700000e+00, -4.6600000e+00, -4.6500000e+00,\n",
       "       -4.6400000e+00, -4.6300000e+00, -4.6200000e+00, -4.6100000e+00,\n",
       "       -4.6000000e+00, -4.5900000e+00, -4.5800000e+00, -4.5700000e+00,\n",
       "       -4.5600000e+00, -4.5500000e+00, -4.5400000e+00, -4.5300000e+00,\n",
       "       -4.5200000e+00, -4.5100000e+00, -4.5000000e+00, -4.4900000e+00,\n",
       "       -4.4800000e+00, -4.4700000e+00, -4.4600000e+00, -4.4500000e+00,\n",
       "       -4.4400000e+00, -4.4300000e+00, -4.4200000e+00, -4.4100000e+00,\n",
       "       -4.4000000e+00, -4.3900000e+00, -4.3800000e+00, -4.3700000e+00,\n",
       "       -4.3600000e+00, -4.3500000e+00, -4.3400000e+00, -4.3300000e+00,\n",
       "       -4.3200000e+00, -4.3100000e+00, -4.3000000e+00, -4.2900000e+00,\n",
       "       -4.2800000e+00, -4.2700000e+00, -4.2600000e+00, -4.2500000e+00,\n",
       "       -4.2400000e+00, -4.2300000e+00, -4.2200000e+00, -4.2100000e+00,\n",
       "       -4.2000000e+00, -4.1900000e+00, -4.1800000e+00, -4.1700000e+00,\n",
       "       -4.1600000e+00, -4.1500000e+00, -4.1400000e+00, -4.1300000e+00,\n",
       "       -4.1200000e+00, -4.1100000e+00, -4.1000000e+00, -4.0900000e+00,\n",
       "       -4.0800000e+00, -4.0700000e+00, -4.0600000e+00, -4.0500000e+00,\n",
       "       -4.0400000e+00, -4.0300000e+00, -4.0200000e+00, -4.0100000e+00,\n",
       "       -4.0000000e+00, -3.9900000e+00, -3.9800000e+00, -3.9700000e+00,\n",
       "       -3.9600000e+00, -3.9500000e+00, -3.9400000e+00, -3.9300000e+00,\n",
       "       -3.9200000e+00, -3.9100000e+00, -3.9000000e+00, -3.8900000e+00,\n",
       "       -3.8800000e+00, -3.8700000e+00, -3.8600000e+00, -3.8500000e+00,\n",
       "       -3.8400000e+00, -3.8300000e+00, -3.8200000e+00, -3.8100000e+00,\n",
       "       -3.8000000e+00, -3.7900000e+00, -3.7800000e+00, -3.7700000e+00,\n",
       "       -3.7600000e+00, -3.7500000e+00, -3.7400000e+00, -3.7300000e+00,\n",
       "       -3.7200000e+00, -3.7100000e+00, -3.7000000e+00, -3.6900000e+00,\n",
       "       -3.6800000e+00, -3.6700000e+00, -3.6600000e+00, -3.6500000e+00,\n",
       "       -3.6400000e+00, -3.6300000e+00, -3.6200000e+00, -3.6100000e+00,\n",
       "       -3.6000000e+00, -3.5900000e+00, -3.5800000e+00, -3.5700000e+00,\n",
       "       -3.5600000e+00, -3.5500000e+00, -3.5400000e+00, -3.5300000e+00,\n",
       "       -3.5200000e+00, -3.5100000e+00, -3.5000000e+00, -3.4900000e+00,\n",
       "       -3.4800000e+00, -3.4700000e+00, -3.4600000e+00, -3.4500000e+00,\n",
       "       -3.4400000e+00, -3.4300000e+00, -3.4200000e+00, -3.4100000e+00,\n",
       "       -3.4000000e+00, -3.3900000e+00, -3.3800000e+00, -3.3700000e+00,\n",
       "       -3.3600000e+00, -3.3500000e+00, -3.3400000e+00, -3.3300000e+00,\n",
       "       -3.3200000e+00, -3.3100000e+00, -3.3000000e+00, -3.2900000e+00,\n",
       "       -3.2800000e+00, -3.2700000e+00, -3.2600000e+00, -3.2500000e+00,\n",
       "       -3.2400000e+00, -3.2300000e+00, -3.2200000e+00, -3.2100000e+00,\n",
       "       -3.2000000e+00, -3.1900000e+00, -3.1800000e+00, -3.1700000e+00,\n",
       "       -3.1600000e+00, -3.1500000e+00, -3.1400000e+00, -3.1300000e+00,\n",
       "       -3.1200000e+00, -3.1100000e+00, -3.1000000e+00, -3.0900000e+00,\n",
       "       -3.0800000e+00, -3.0700000e+00, -3.0600000e+00, -3.0500000e+00,\n",
       "       -3.0400000e+00, -3.0300000e+00, -3.0200000e+00, -3.0100000e+00,\n",
       "       -3.0000000e+00, -2.9900000e+00, -2.9800000e+00, -2.9700000e+00,\n",
       "       -2.9600000e+00, -2.9500000e+00, -2.9400000e+00, -2.9300000e+00,\n",
       "       -2.9200000e+00, -2.9100000e+00, -2.9000000e+00, -2.8900000e+00,\n",
       "       -2.8800000e+00, -2.8700000e+00, -2.8600000e+00, -2.8500000e+00,\n",
       "       -2.8400000e+00, -2.8300000e+00, -2.8200000e+00, -2.8100000e+00,\n",
       "       -2.8000000e+00, -2.7900000e+00, -2.7800000e+00, -2.7700000e+00,\n",
       "       -2.7600000e+00, -2.7500000e+00, -2.7400000e+00, -2.7300000e+00,\n",
       "       -2.7200000e+00, -2.7100000e+00, -2.7000000e+00, -2.6900000e+00,\n",
       "       -2.6800000e+00, -2.6700000e+00, -2.6600000e+00, -2.6500000e+00,\n",
       "       -2.6400000e+00, -2.6300000e+00, -2.6200000e+00, -2.6100000e+00,\n",
       "       -2.6000000e+00, -2.5900000e+00, -2.5800000e+00, -2.5700000e+00,\n",
       "       -2.5600000e+00, -2.5500000e+00, -2.5400000e+00, -2.5300000e+00,\n",
       "       -2.5200000e+00, -2.5100000e+00, -2.5000000e+00, -2.4900000e+00,\n",
       "       -2.4800000e+00, -2.4700000e+00, -2.4600000e+00, -2.4500000e+00,\n",
       "       -2.4400000e+00, -2.4300000e+00, -2.4200000e+00, -2.4100000e+00,\n",
       "       -2.4000000e+00, -2.3900000e+00, -2.3800000e+00, -2.3700000e+00,\n",
       "       -2.3600000e+00, -2.3500000e+00, -2.3400000e+00, -2.3300000e+00,\n",
       "       -2.3200000e+00, -2.3100000e+00, -2.3000000e+00, -2.2900000e+00,\n",
       "       -2.2800000e+00, -2.2700000e+00, -2.2600000e+00, -2.2500000e+00,\n",
       "       -2.2400000e+00, -2.2300000e+00, -2.2200000e+00, -2.2100000e+00,\n",
       "       -2.2000000e+00, -2.1900000e+00, -2.1800000e+00, -2.1700000e+00,\n",
       "       -2.1600000e+00, -2.1500000e+00, -2.1400000e+00, -2.1300000e+00,\n",
       "       -2.1200000e+00, -2.1100000e+00, -2.1000000e+00, -2.0900000e+00,\n",
       "       -2.0800000e+00, -2.0700000e+00, -2.0600000e+00, -2.0500000e+00,\n",
       "       -2.0400000e+00, -2.0300000e+00, -2.0200000e+00, -2.0100000e+00,\n",
       "       -2.0000000e+00, -1.9900000e+00, -1.9800000e+00, -1.9700000e+00,\n",
       "       -1.9600000e+00, -1.9500000e+00, -1.9400000e+00, -1.9300000e+00,\n",
       "       -1.9200000e+00, -1.9100000e+00, -1.9000000e+00, -1.8900000e+00,\n",
       "       -1.8800000e+00, -1.8700000e+00, -1.8600000e+00, -1.8500000e+00,\n",
       "       -1.8400000e+00, -1.8300000e+00, -1.8200000e+00, -1.8100000e+00,\n",
       "       -1.8000000e+00, -1.7900000e+00, -1.7800000e+00, -1.7700000e+00,\n",
       "       -1.7600000e+00, -1.7500000e+00, -1.7400000e+00, -1.7300000e+00,\n",
       "       -1.7200000e+00, -1.7100000e+00, -1.7000000e+00, -1.6900000e+00,\n",
       "       -1.6800000e+00, -1.6700000e+00, -1.6600000e+00, -1.6500000e+00,\n",
       "       -1.6400000e+00, -1.6300000e+00, -1.6200000e+00, -1.6100000e+00,\n",
       "       -1.6000000e+00, -1.5900000e+00, -1.5800000e+00, -1.5700000e+00,\n",
       "       -1.5600000e+00, -1.5500000e+00, -1.5400000e+00, -1.5300000e+00,\n",
       "       -1.5200000e+00, -1.5100000e+00, -1.5000000e+00, -1.4900000e+00,\n",
       "       -1.4800000e+00, -1.4700000e+00, -1.4600000e+00, -1.4500000e+00,\n",
       "       -1.4400000e+00, -1.4300000e+00, -1.4200000e+00, -1.4100000e+00,\n",
       "       -1.4000000e+00, -1.3900000e+00, -1.3800000e+00, -1.3700000e+00,\n",
       "       -1.3600000e+00, -1.3500000e+00, -1.3400000e+00, -1.3300000e+00,\n",
       "       -1.3200000e+00, -1.3100000e+00, -1.3000000e+00, -1.2900000e+00,\n",
       "       -1.2800000e+00, -1.2700000e+00, -1.2600000e+00, -1.2500000e+00,\n",
       "       -1.2400000e+00, -1.2300000e+00, -1.2200000e+00, -1.2100000e+00,\n",
       "       -1.2000000e+00, -1.1900000e+00, -1.1800000e+00, -1.1700000e+00,\n",
       "       -1.1600000e+00, -1.1500000e+00, -1.1400000e+00, -1.1300000e+00,\n",
       "       -1.1200000e+00, -1.1100000e+00, -1.1000000e+00, -1.0900000e+00,\n",
       "       -1.0800000e+00, -1.0700000e+00, -1.0600000e+00, -1.0500000e+00,\n",
       "       -1.0400000e+00, -1.0300000e+00, -1.0200000e+00, -1.0100000e+00,\n",
       "       -1.0000000e+00, -9.9000000e-01, -9.8000000e-01, -9.7000000e-01,\n",
       "       -9.6000000e-01, -9.5000000e-01, -9.4000000e-01, -9.3000000e-01,\n",
       "       -9.2000000e-01, -9.1000000e-01, -9.0000000e-01, -8.9000000e-01,\n",
       "       -8.8000000e-01, -8.7000000e-01, -8.6000000e-01, -8.5000000e-01,\n",
       "       -8.4000000e-01, -8.3000000e-01, -8.2000000e-01, -8.1000000e-01,\n",
       "       -8.0000000e-01, -7.9000000e-01, -7.8000000e-01, -7.7000000e-01,\n",
       "       -7.6000000e-01, -7.5000000e-01, -7.4000000e-01, -7.3000000e-01,\n",
       "       -7.2000000e-01, -7.1000000e-01, -7.0000000e-01, -6.9000000e-01,\n",
       "       -6.8000000e-01, -6.7000000e-01, -6.6000000e-01, -6.5000000e-01,\n",
       "       -6.4000000e-01, -6.3000000e-01, -6.2000000e-01, -6.1000000e-01,\n",
       "       -6.0000000e-01, -5.9000000e-01, -5.8000000e-01, -5.7000000e-01,\n",
       "       -5.6000000e-01, -5.5000000e-01, -5.4000000e-01, -5.3000000e-01,\n",
       "       -5.2000000e-01, -5.1000000e-01, -5.0000000e-01, -4.9000000e-01,\n",
       "       -4.8000000e-01, -4.7000000e-01, -4.6000000e-01, -4.5000000e-01,\n",
       "       -4.4000000e-01, -4.3000000e-01, -4.2000000e-01, -4.1000000e-01,\n",
       "       -4.0000000e-01, -3.9000000e-01, -3.8000000e-01, -3.7000000e-01,\n",
       "       -3.6000000e-01, -3.5000000e-01, -3.4000000e-01, -3.3000000e-01,\n",
       "       -3.2000000e-01, -3.1000000e-01, -3.0000000e-01, -2.9000000e-01,\n",
       "       -2.8000000e-01, -2.7000000e-01, -2.6000000e-01, -2.5000000e-01,\n",
       "       -2.4000000e-01, -2.3000000e-01, -2.2000000e-01, -2.1000000e-01,\n",
       "       -2.0000000e-01, -1.9000000e-01, -1.8000000e-01, -1.7000000e-01,\n",
       "       -1.6000000e-01, -1.5000000e-01, -1.4000000e-01, -1.3000000e-01,\n",
       "       -1.2000000e-01, -1.1000000e-01, -1.0000000e-01, -9.0000000e-02,\n",
       "       -8.0000000e-02, -7.0000000e-02, -6.0000000e-02, -5.0000000e-02,\n",
       "       -4.0000000e-02, -3.0000000e-02, -2.0000000e-02, -1.0000000e-02,\n",
       "       -1.0658141e-13,  1.0000000e-02,  2.0000000e-02,  3.0000000e-02,\n",
       "        4.0000000e-02,  5.0000000e-02,  6.0000000e-02,  7.0000000e-02,\n",
       "        8.0000000e-02,  9.0000000e-02,  1.0000000e-01,  1.1000000e-01,\n",
       "        1.2000000e-01,  1.3000000e-01,  1.4000000e-01,  1.5000000e-01,\n",
       "        1.6000000e-01,  1.7000000e-01,  1.8000000e-01,  1.9000000e-01,\n",
       "        2.0000000e-01,  2.1000000e-01,  2.2000000e-01,  2.3000000e-01,\n",
       "        2.4000000e-01,  2.5000000e-01,  2.6000000e-01,  2.7000000e-01,\n",
       "        2.8000000e-01,  2.9000000e-01,  3.0000000e-01,  3.1000000e-01,\n",
       "        3.2000000e-01,  3.3000000e-01,  3.4000000e-01,  3.5000000e-01,\n",
       "        3.6000000e-01,  3.7000000e-01,  3.8000000e-01,  3.9000000e-01,\n",
       "        4.0000000e-01,  4.1000000e-01,  4.2000000e-01,  4.3000000e-01,\n",
       "        4.4000000e-01,  4.5000000e-01,  4.6000000e-01,  4.7000000e-01,\n",
       "        4.8000000e-01,  4.9000000e-01,  5.0000000e-01,  5.1000000e-01,\n",
       "        5.2000000e-01,  5.3000000e-01,  5.4000000e-01,  5.5000000e-01,\n",
       "        5.6000000e-01,  5.7000000e-01,  5.8000000e-01,  5.9000000e-01,\n",
       "        6.0000000e-01,  6.1000000e-01,  6.2000000e-01,  6.3000000e-01,\n",
       "        6.4000000e-01,  6.5000000e-01,  6.6000000e-01,  6.7000000e-01,\n",
       "        6.8000000e-01,  6.9000000e-01,  7.0000000e-01,  7.1000000e-01,\n",
       "        7.2000000e-01,  7.3000000e-01,  7.4000000e-01,  7.5000000e-01,\n",
       "        7.6000000e-01,  7.7000000e-01,  7.8000000e-01,  7.9000000e-01,\n",
       "        8.0000000e-01,  8.1000000e-01,  8.2000000e-01,  8.3000000e-01,\n",
       "        8.4000000e-01,  8.5000000e-01,  8.6000000e-01,  8.7000000e-01,\n",
       "        8.8000000e-01,  8.9000000e-01,  9.0000000e-01,  9.1000000e-01,\n",
       "        9.2000000e-01,  9.3000000e-01,  9.4000000e-01,  9.5000000e-01,\n",
       "        9.6000000e-01,  9.7000000e-01,  9.8000000e-01,  9.9000000e-01,\n",
       "        1.0000000e+00,  1.0100000e+00,  1.0200000e+00,  1.0300000e+00,\n",
       "        1.0400000e+00,  1.0500000e+00,  1.0600000e+00,  1.0700000e+00,\n",
       "        1.0800000e+00,  1.0900000e+00,  1.1000000e+00,  1.1100000e+00,\n",
       "        1.1200000e+00,  1.1300000e+00,  1.1400000e+00,  1.1500000e+00,\n",
       "        1.1600000e+00,  1.1700000e+00,  1.1800000e+00,  1.1900000e+00,\n",
       "        1.2000000e+00,  1.2100000e+00,  1.2200000e+00,  1.2300000e+00,\n",
       "        1.2400000e+00,  1.2500000e+00,  1.2600000e+00,  1.2700000e+00,\n",
       "        1.2800000e+00,  1.2900000e+00,  1.3000000e+00,  1.3100000e+00,\n",
       "        1.3200000e+00,  1.3300000e+00,  1.3400000e+00,  1.3500000e+00,\n",
       "        1.3600000e+00,  1.3700000e+00,  1.3800000e+00,  1.3900000e+00,\n",
       "        1.4000000e+00,  1.4100000e+00,  1.4200000e+00,  1.4300000e+00,\n",
       "        1.4400000e+00,  1.4500000e+00,  1.4600000e+00,  1.4700000e+00,\n",
       "        1.4800000e+00,  1.4900000e+00,  1.5000000e+00,  1.5100000e+00,\n",
       "        1.5200000e+00,  1.5300000e+00,  1.5400000e+00,  1.5500000e+00,\n",
       "        1.5600000e+00,  1.5700000e+00,  1.5800000e+00,  1.5900000e+00,\n",
       "        1.6000000e+00,  1.6100000e+00,  1.6200000e+00,  1.6300000e+00,\n",
       "        1.6400000e+00,  1.6500000e+00,  1.6600000e+00,  1.6700000e+00,\n",
       "        1.6800000e+00,  1.6900000e+00,  1.7000000e+00,  1.7100000e+00,\n",
       "        1.7200000e+00,  1.7300000e+00,  1.7400000e+00,  1.7500000e+00,\n",
       "        1.7600000e+00,  1.7700000e+00,  1.7800000e+00,  1.7900000e+00,\n",
       "        1.8000000e+00,  1.8100000e+00,  1.8200000e+00,  1.8300000e+00,\n",
       "        1.8400000e+00,  1.8500000e+00,  1.8600000e+00,  1.8700000e+00,\n",
       "        1.8800000e+00,  1.8900000e+00,  1.9000000e+00,  1.9100000e+00,\n",
       "        1.9200000e+00,  1.9300000e+00,  1.9400000e+00,  1.9500000e+00,\n",
       "        1.9600000e+00,  1.9700000e+00,  1.9800000e+00,  1.9900000e+00,\n",
       "        2.0000000e+00,  2.0100000e+00,  2.0200000e+00,  2.0300000e+00,\n",
       "        2.0400000e+00,  2.0500000e+00,  2.0600000e+00,  2.0700000e+00,\n",
       "        2.0800000e+00,  2.0900000e+00,  2.1000000e+00,  2.1100000e+00,\n",
       "        2.1200000e+00,  2.1300000e+00,  2.1400000e+00,  2.1500000e+00,\n",
       "        2.1600000e+00,  2.1700000e+00,  2.1800000e+00,  2.1900000e+00,\n",
       "        2.2000000e+00,  2.2100000e+00,  2.2200000e+00,  2.2300000e+00,\n",
       "        2.2400000e+00,  2.2500000e+00,  2.2600000e+00,  2.2700000e+00,\n",
       "        2.2800000e+00,  2.2900000e+00,  2.3000000e+00,  2.3100000e+00,\n",
       "        2.3200000e+00,  2.3300000e+00,  2.3400000e+00,  2.3500000e+00,\n",
       "        2.3600000e+00,  2.3700000e+00,  2.3800000e+00,  2.3900000e+00,\n",
       "        2.4000000e+00,  2.4100000e+00,  2.4200000e+00,  2.4300000e+00,\n",
       "        2.4400000e+00,  2.4500000e+00,  2.4600000e+00,  2.4700000e+00,\n",
       "        2.4800000e+00,  2.4900000e+00,  2.5000000e+00,  2.5100000e+00,\n",
       "        2.5200000e+00,  2.5300000e+00,  2.5400000e+00,  2.5500000e+00,\n",
       "        2.5600000e+00,  2.5700000e+00,  2.5800000e+00,  2.5900000e+00,\n",
       "        2.6000000e+00,  2.6100000e+00,  2.6200000e+00,  2.6300000e+00,\n",
       "        2.6400000e+00,  2.6500000e+00,  2.6600000e+00,  2.6700000e+00,\n",
       "        2.6800000e+00,  2.6900000e+00,  2.7000000e+00,  2.7100000e+00,\n",
       "        2.7200000e+00,  2.7300000e+00,  2.7400000e+00,  2.7500000e+00,\n",
       "        2.7600000e+00,  2.7700000e+00,  2.7800000e+00,  2.7900000e+00,\n",
       "        2.8000000e+00,  2.8100000e+00,  2.8200000e+00,  2.8300000e+00,\n",
       "        2.8400000e+00,  2.8500000e+00,  2.8600000e+00,  2.8700000e+00,\n",
       "        2.8800000e+00,  2.8900000e+00,  2.9000000e+00,  2.9100000e+00,\n",
       "        2.9200000e+00,  2.9300000e+00,  2.9400000e+00,  2.9500000e+00,\n",
       "        2.9600000e+00,  2.9700000e+00,  2.9800000e+00,  2.9900000e+00,\n",
       "        3.0000000e+00,  3.0100000e+00,  3.0200000e+00,  3.0300000e+00,\n",
       "        3.0400000e+00,  3.0500000e+00,  3.0600000e+00,  3.0700000e+00,\n",
       "        3.0800000e+00,  3.0900000e+00,  3.1000000e+00,  3.1100000e+00,\n",
       "        3.1200000e+00,  3.1300000e+00,  3.1400000e+00,  3.1500000e+00,\n",
       "        3.1600000e+00,  3.1700000e+00,  3.1800000e+00,  3.1900000e+00,\n",
       "        3.2000000e+00,  3.2100000e+00,  3.2200000e+00,  3.2300000e+00,\n",
       "        3.2400000e+00,  3.2500000e+00,  3.2600000e+00,  3.2700000e+00,\n",
       "        3.2800000e+00,  3.2900000e+00,  3.3000000e+00,  3.3100000e+00,\n",
       "        3.3200000e+00,  3.3300000e+00,  3.3400000e+00,  3.3500000e+00,\n",
       "        3.3600000e+00,  3.3700000e+00,  3.3800000e+00,  3.3900000e+00,\n",
       "        3.4000000e+00,  3.4100000e+00,  3.4200000e+00,  3.4300000e+00,\n",
       "        3.4400000e+00,  3.4500000e+00,  3.4600000e+00,  3.4700000e+00,\n",
       "        3.4800000e+00,  3.4900000e+00,  3.5000000e+00,  3.5100000e+00,\n",
       "        3.5200000e+00,  3.5300000e+00,  3.5400000e+00,  3.5500000e+00,\n",
       "        3.5600000e+00,  3.5700000e+00,  3.5800000e+00,  3.5900000e+00,\n",
       "        3.6000000e+00,  3.6100000e+00,  3.6200000e+00,  3.6300000e+00,\n",
       "        3.6400000e+00,  3.6500000e+00,  3.6600000e+00,  3.6700000e+00,\n",
       "        3.6800000e+00,  3.6900000e+00,  3.7000000e+00,  3.7100000e+00,\n",
       "        3.7200000e+00,  3.7300000e+00,  3.7400000e+00,  3.7500000e+00,\n",
       "        3.7600000e+00,  3.7700000e+00,  3.7800000e+00,  3.7900000e+00,\n",
       "        3.8000000e+00,  3.8100000e+00,  3.8200000e+00,  3.8300000e+00,\n",
       "        3.8400000e+00,  3.8500000e+00,  3.8600000e+00,  3.8700000e+00,\n",
       "        3.8800000e+00,  3.8900000e+00,  3.9000000e+00,  3.9100000e+00,\n",
       "        3.9200000e+00,  3.9300000e+00,  3.9400000e+00,  3.9500000e+00,\n",
       "        3.9600000e+00,  3.9700000e+00,  3.9800000e+00,  3.9900000e+00,\n",
       "        4.0000000e+00,  4.0100000e+00,  4.0200000e+00,  4.0300000e+00,\n",
       "        4.0400000e+00,  4.0500000e+00,  4.0600000e+00,  4.0700000e+00,\n",
       "        4.0800000e+00,  4.0900000e+00,  4.1000000e+00,  4.1100000e+00,\n",
       "        4.1200000e+00,  4.1300000e+00,  4.1400000e+00,  4.1500000e+00,\n",
       "        4.1600000e+00,  4.1700000e+00,  4.1800000e+00,  4.1900000e+00,\n",
       "        4.2000000e+00,  4.2100000e+00,  4.2200000e+00,  4.2300000e+00,\n",
       "        4.2400000e+00,  4.2500000e+00,  4.2600000e+00,  4.2700000e+00,\n",
       "        4.2800000e+00,  4.2900000e+00,  4.3000000e+00,  4.3100000e+00,\n",
       "        4.3200000e+00,  4.3300000e+00,  4.3400000e+00,  4.3500000e+00,\n",
       "        4.3600000e+00,  4.3700000e+00,  4.3800000e+00,  4.3900000e+00,\n",
       "        4.4000000e+00,  4.4100000e+00,  4.4200000e+00,  4.4300000e+00,\n",
       "        4.4400000e+00,  4.4500000e+00,  4.4600000e+00,  4.4700000e+00,\n",
       "        4.4800000e+00,  4.4900000e+00,  4.5000000e+00,  4.5100000e+00,\n",
       "        4.5200000e+00,  4.5300000e+00,  4.5400000e+00,  4.5500000e+00,\n",
       "        4.5600000e+00,  4.5700000e+00,  4.5800000e+00,  4.5900000e+00,\n",
       "        4.6000000e+00,  4.6100000e+00,  4.6200000e+00,  4.6300000e+00,\n",
       "        4.6400000e+00,  4.6500000e+00,  4.6600000e+00,  4.6700000e+00,\n",
       "        4.6800000e+00,  4.6900000e+00,  4.7000000e+00,  4.7100000e+00,\n",
       "        4.7200000e+00,  4.7300000e+00,  4.7400000e+00,  4.7500000e+00,\n",
       "        4.7600000e+00,  4.7700000e+00,  4.7800000e+00,  4.7900000e+00,\n",
       "        4.8000000e+00,  4.8100000e+00,  4.8200000e+00,  4.8300000e+00,\n",
       "        4.8400000e+00,  4.8500000e+00,  4.8600000e+00,  4.8700000e+00,\n",
       "        4.8800000e+00,  4.8900000e+00,  4.9000000e+00,  4.9100000e+00,\n",
       "        4.9200000e+00,  4.9300000e+00,  4.9400000e+00,  4.9500000e+00,\n",
       "        4.9600000e+00,  4.9700000e+00,  4.9800000e+00,  4.9900000e+00])"
      ]
     },
     "execution_count": 176,
     "metadata": {},
     "output_type": "execute_result"
    }
   ],
   "source": [
    "points = np.arange(-5, 5, 0.01) #숫자 하나당 100개의 포인트로 되기에 1000개의 포인트가 된다.\n",
    "points"
   ]
  },
  {
   "cell_type": "code",
   "execution_count": 179,
   "id": "0f68f97c",
   "metadata": {},
   "outputs": [],
   "source": [
    "xs, ys = np.meshgrid(points, points)"
   ]
  },
  {
   "cell_type": "code",
   "execution_count": 180,
   "id": "60e94ba1",
   "metadata": {},
   "outputs": [
    {
     "data": {
      "text/plain": [
       "array([[-5.  , -4.99, -4.98, ...,  4.97,  4.98,  4.99],\n",
       "       [-5.  , -4.99, -4.98, ...,  4.97,  4.98,  4.99],\n",
       "       [-5.  , -4.99, -4.98, ...,  4.97,  4.98,  4.99],\n",
       "       ...,\n",
       "       [-5.  , -4.99, -4.98, ...,  4.97,  4.98,  4.99],\n",
       "       [-5.  , -4.99, -4.98, ...,  4.97,  4.98,  4.99],\n",
       "       [-5.  , -4.99, -4.98, ...,  4.97,  4.98,  4.99]])"
      ]
     },
     "execution_count": 180,
     "metadata": {},
     "output_type": "execute_result"
    }
   ],
   "source": [
    "xs"
   ]
  },
  {
   "cell_type": "code",
   "execution_count": 181,
   "id": "1a1a46c6",
   "metadata": {},
   "outputs": [
    {
     "data": {
      "text/plain": [
       "array([[-5.  , -5.  , -5.  , ..., -5.  , -5.  , -5.  ],\n",
       "       [-4.99, -4.99, -4.99, ..., -4.99, -4.99, -4.99],\n",
       "       [-4.98, -4.98, -4.98, ..., -4.98, -4.98, -4.98],\n",
       "       ...,\n",
       "       [ 4.97,  4.97,  4.97, ...,  4.97,  4.97,  4.97],\n",
       "       [ 4.98,  4.98,  4.98, ...,  4.98,  4.98,  4.98],\n",
       "       [ 4.99,  4.99,  4.99, ...,  4.99,  4.99,  4.99]])"
      ]
     },
     "execution_count": 181,
     "metadata": {},
     "output_type": "execute_result"
    }
   ],
   "source": [
    "ys"
   ]
  },
  {
   "cell_type": "code",
   "execution_count": 183,
   "id": "ca104970",
   "metadata": {},
   "outputs": [
    {
     "data": {
      "text/plain": [
       "array([[ True,  True,  True, ...,  True,  True,  True],\n",
       "       [ True,  True,  True, ...,  True,  True,  True],\n",
       "       [ True,  True,  True, ...,  True,  True,  True],\n",
       "       ...,\n",
       "       [ True,  True,  True, ...,  True,  True,  True],\n",
       "       [ True,  True,  True, ...,  True,  True,  True],\n",
       "       [ True,  True,  True, ...,  True,  True,  True]])"
      ]
     },
     "execution_count": 183,
     "metadata": {},
     "output_type": "execute_result"
    }
   ],
   "source": [
    "xs.T == ys"
   ]
  },
  {
   "cell_type": "code",
   "execution_count": 184,
   "id": "e53db072",
   "metadata": {},
   "outputs": [],
   "source": [
    "z = np.sqrt(xs **2 + ys**2)"
   ]
  },
  {
   "cell_type": "code",
   "execution_count": 185,
   "id": "6279e7d8",
   "metadata": {},
   "outputs": [
    {
     "data": {
      "text/plain": [
       "array([[7.07106781, 7.06400028, 7.05693985, ..., 7.04988652, 7.05693985,\n",
       "        7.06400028],\n",
       "       [7.06400028, 7.05692568, 7.04985815, ..., 7.04279774, 7.04985815,\n",
       "        7.05692568],\n",
       "       [7.05693985, 7.04985815, 7.04278354, ..., 7.03571603, 7.04278354,\n",
       "        7.04985815],\n",
       "       ...,\n",
       "       [7.04988652, 7.04279774, 7.03571603, ..., 7.0286414 , 7.03571603,\n",
       "        7.04279774],\n",
       "       [7.05693985, 7.04985815, 7.04278354, ..., 7.03571603, 7.04278354,\n",
       "        7.04985815],\n",
       "       [7.06400028, 7.05692568, 7.04985815, ..., 7.04279774, 7.04985815,\n",
       "        7.05692568]])"
      ]
     },
     "execution_count": 185,
     "metadata": {},
     "output_type": "execute_result"
    }
   ],
   "source": [
    "z"
   ]
  },
  {
   "cell_type": "code",
   "execution_count": 190,
   "id": "25b06ba7",
   "metadata": {},
   "outputs": [
    {
     "data": {
      "text/plain": [
       "<matplotlib.colorbar.Colorbar at 0x1fa5279ac10>"
      ]
     },
     "execution_count": 190,
     "metadata": {},
     "output_type": "execute_result"
    },
    {
     "data": {
      "image/png": "[encoded data removed]",
      "text/plain": [
       "<Figure size 432x288 with 2 Axes>"
      ]
     },
     "metadata": {
      "needs_background": "light"
     },
     "output_type": "display_data"
    }
   ],
   "source": [
    "import matplotlib.pyplot as plt\n",
    "plt.imshow(z, cmap=plt.cm.gray)\n",
    "plt.colorbar()"
   ]
  },
  {
   "cell_type": "markdown",
   "id": "6941dc20",
   "metadata": {},
   "source": [
    "###  어둡다는 것은 숫자가 낮다는 것."
   ]
  },
  {
   "cell_type": "markdown",
   "id": "fe35505d",
   "metadata": {},
   "source": [
    "수로는 0부터 1000까지지만 500, 500이 0,0 이라고 보자 중앙일 수록 값이 낮다."
   ]
  },
  {
   "cell_type": "markdown",
   "id": "38c623c8",
   "metadata": {},
   "source": [
    "## 3.1 배열 연산으로 조건절 표현"
   ]
  },
  {
   "cell_type": "code",
   "execution_count": 191,
   "id": "505b00d6",
   "metadata": {},
   "outputs": [],
   "source": [
    "xarr = np.array([1.1, 1.2, 1.3, 1.4, 1.5])\n",
    "yarr = np.array([2.1, 2.2, 2.3, 2.4, 2.5])"
   ]
  },
  {
   "cell_type": "code",
   "execution_count": 192,
   "id": "dcf928dd",
   "metadata": {},
   "outputs": [
    {
     "data": {
      "text/plain": [
       "array([1.1, 1.2, 1.3, 1.4, 1.5])"
      ]
     },
     "execution_count": 192,
     "metadata": {},
     "output_type": "execute_result"
    }
   ],
   "source": [
    "xarr"
   ]
  },
  {
   "cell_type": "code",
   "execution_count": 193,
   "id": "98f8893e",
   "metadata": {},
   "outputs": [
    {
     "data": {
      "text/plain": [
       "array([2.1, 2.2, 2.3, 2.4, 2.5])"
      ]
     },
     "execution_count": 193,
     "metadata": {},
     "output_type": "execute_result"
    }
   ],
   "source": [
    "yarr"
   ]
  },
  {
   "cell_type": "code",
   "execution_count": 194,
   "id": "edeec4a6",
   "metadata": {},
   "outputs": [],
   "source": [
    "cond = np.array([True, False, True, True, False])"
   ]
  },
  {
   "cell_type": "code",
   "execution_count": 195,
   "id": "256e26cf",
   "metadata": {},
   "outputs": [
    {
     "data": {
      "text/plain": [
       "array([1.1, 2.2, 1.3, 1.4, 2.5])"
      ]
     },
     "execution_count": 195,
     "metadata": {},
     "output_type": "execute_result"
    }
   ],
   "source": [
    "np.where(cond, xarr, yarr) #cond에 따라서 참이면 xarr위치의 값 거짓이면 yarr의 값을 가져옴. 이런식으로 캐스팅 덕에 np에서는 편한 조건문이 있다."
   ]
  },
  {
   "cell_type": "code",
   "execution_count": 197,
   "id": "5ab20db1",
   "metadata": {},
   "outputs": [
    {
     "data": {
      "text/plain": [
       "array([[ 0.78232579, -0.3665948 , -1.25347282,  0.60316892],\n",
       "       [ 0.88810377,  0.38899061, -1.5963122 ,  0.20876514],\n",
       "       [ 0.21834503, -0.07965282,  0.06800612,  0.66467888],\n",
       "       [-0.39093754, -2.02384542, -1.21484844,  1.88132859]])"
      ]
     },
     "execution_count": 197,
     "metadata": {},
     "output_type": "execute_result"
    }
   ],
   "source": [
    "arr = np.random.randn(4, 4) #표준편차가 1이라서 평균은 0 이다. 근데 아닌가보다..\n",
    "arr"
   ]
  },
  {
   "cell_type": "code",
   "execution_count": 198,
   "id": "30734bc7",
   "metadata": {},
   "outputs": [
    {
     "data": {
      "text/plain": [
       "array([[ True, False, False,  True],\n",
       "       [ True,  True, False,  True],\n",
       "       [ True, False,  True,  True],\n",
       "       [False, False, False,  True]])"
      ]
     },
     "execution_count": 198,
     "metadata": {},
     "output_type": "execute_result"
    }
   ],
   "source": [
    "arr > 0"
   ]
  },
  {
   "cell_type": "code",
   "execution_count": 199,
   "id": "25d4394c",
   "metadata": {},
   "outputs": [
    {
     "data": {
      "text/plain": [
       "array([[ 2.        , -0.3665948 , -1.25347282,  2.        ],\n",
       "       [ 2.        ,  2.        , -1.5963122 ,  2.        ],\n",
       "       [ 2.        , -0.07965282,  2.        ,  2.        ],\n",
       "       [-0.39093754, -2.02384542, -1.21484844,  2.        ]])"
      ]
     },
     "execution_count": 199,
     "metadata": {},
     "output_type": "execute_result"
    }
   ],
   "source": [
    "np.where(arr > 0, 2, arr) #false가 나오면 arr의 본래 값이 나온다"
   ]
  },
  {
   "cell_type": "markdown",
   "id": "a992f990",
   "metadata": {},
   "source": [
    "### 3.2 수학 메서드와 통계 메서드"
   ]
  },
  {
   "cell_type": "code",
   "execution_count": 202,
   "id": "067c723e",
   "metadata": {},
   "outputs": [
    {
     "data": {
      "text/plain": [
       "array([[-0.10717559,  0.56550027,  0.64863339,  0.40595199],\n",
       "       [-1.22749931, -0.73851685, -0.5848176 , -1.07394418],\n",
       "       [ 0.32986092,  0.06678506,  0.6661613 ,  0.78833584],\n",
       "       [-0.97884655,  2.30915399,  0.20597672,  0.16606356],\n",
       "       [-0.27783137, -1.7272268 ,  1.60172116, -1.70419773]])"
      ]
     },
     "execution_count": 202,
     "metadata": {},
     "output_type": "execute_result"
    }
   ],
   "source": [
    "arr = np.random.randn(5, 4)\n",
    "arr"
   ]
  },
  {
   "cell_type": "code",
   "execution_count": 204,
   "id": "71f7d49e",
   "metadata": {},
   "outputs": [
    {
     "data": {
      "text/plain": [
       "-0.03329558855055968"
      ]
     },
     "execution_count": 204,
     "metadata": {},
     "output_type": "execute_result"
    }
   ],
   "source": [
    "arr.mean()"
   ]
  },
  {
   "cell_type": "code",
   "execution_count": 205,
   "id": "79c5678f",
   "metadata": {},
   "outputs": [
    {
     "data": {
      "text/plain": [
       "-0.03329558855055968"
      ]
     },
     "execution_count": 205,
     "metadata": {},
     "output_type": "execute_result"
    }
   ],
   "source": [
    "np.mean(arr)"
   ]
  },
  {
   "cell_type": "code",
   "execution_count": 206,
   "id": "78e57c66",
   "metadata": {},
   "outputs": [
    {
     "data": {
      "text/plain": [
       "-0.6659117710111937"
      ]
     },
     "execution_count": 206,
     "metadata": {},
     "output_type": "execute_result"
    }
   ],
   "source": [
    "arr.sum()"
   ]
  },
  {
   "cell_type": "code",
   "execution_count": 207,
   "id": "fe0ecf56",
   "metadata": {},
   "outputs": [
    {
     "data": {
      "text/plain": [
       "array([ 1.51291006, -3.62477794,  1.85114313,  1.70234772, -2.10753474])"
      ]
     },
     "execution_count": 207,
     "metadata": {},
     "output_type": "execute_result"
    }
   ],
   "source": [
    "arr.sum(axis=1) #1번축(열 축)을 따라서 .sum(합계)구하기 가로끼리"
   ]
  },
  {
   "cell_type": "code",
   "execution_count": 208,
   "id": "86f92fa3",
   "metadata": {},
   "outputs": [
    {
     "data": {
      "text/plain": [
       "array([-2.26149189,  0.47569567,  2.53767497, -1.41779051])"
      ]
     },
     "execution_count": 208,
     "metadata": {},
     "output_type": "execute_result"
    }
   ],
   "source": [
    "arr.sum(axis=0) #0번축(행 축)을 따라서 sum(합계)구하기 세로끼리"
   ]
  },
  {
   "cell_type": "code",
   "execution_count": 209,
   "id": "4caff0cf",
   "metadata": {},
   "outputs": [
    {
     "data": {
      "text/plain": [
       "array([ 0,  1,  3,  6, 10, 15, 21, 28], dtype=int32)"
      ]
     },
     "execution_count": 209,
     "metadata": {},
     "output_type": "execute_result"
    }
   ],
   "source": [
    "arr = np.array([0, 1, 2, 3, 4, 5 ,6 ,7])\n",
    "arr.cumsum() #단계별로 누적해줌."
   ]
  },
  {
   "cell_type": "code",
   "execution_count": 210,
   "id": "c428b9ab",
   "metadata": {},
   "outputs": [
    {
     "data": {
      "text/plain": [
       "array([0, 0, 0, 0, 0, 0, 0, 0], dtype=int32)"
      ]
     },
     "execution_count": 210,
     "metadata": {},
     "output_type": "execute_result"
    }
   ],
   "source": [
    "arr.cumprod() #이건 곱하기지만 0이 있어서 0으로밖에 안나옴"
   ]
  },
  {
   "cell_type": "code",
   "execution_count": 211,
   "id": "7b0fb902",
   "metadata": {},
   "outputs": [
    {
     "data": {
      "text/plain": [
       "array([[0, 1, 2],\n",
       "       [3, 4, 5],\n",
       "       [6, 7, 8]])"
      ]
     },
     "execution_count": 211,
     "metadata": {},
     "output_type": "execute_result"
    }
   ],
   "source": [
    "arr = np.array([[0,1, 2], [3, 4, 5], [6, 7, 8]])\n",
    "arr"
   ]
  },
  {
   "cell_type": "code",
   "execution_count": 212,
   "id": "320e3619",
   "metadata": {},
   "outputs": [
    {
     "data": {
      "text/plain": [
       "array([[ 0,  1,  2],\n",
       "       [ 3,  5,  7],\n",
       "       [ 9, 12, 15]], dtype=int32)"
      ]
     },
     "execution_count": 212,
     "metadata": {},
     "output_type": "execute_result"
    }
   ],
   "source": [
    "arr.cumsum(axis=0)"
   ]
  },
  {
   "cell_type": "code",
   "execution_count": 213,
   "id": "359487ad",
   "metadata": {},
   "outputs": [
    {
     "data": {
      "text/plain": [
       "array([[ 0,  1,  3],\n",
       "       [ 3,  7, 12],\n",
       "       [ 6, 13, 21]], dtype=int32)"
      ]
     },
     "execution_count": 213,
     "metadata": {},
     "output_type": "execute_result"
    }
   ],
   "source": [
    "arr.cumsum(axis=1)"
   ]
  },
  {
   "cell_type": "code",
   "execution_count": 214,
   "id": "8cbb2784",
   "metadata": {},
   "outputs": [
    {
     "data": {
      "text/plain": [
       "array([[  0,   0,   0],\n",
       "       [  3,  12,  60],\n",
       "       [  6,  42, 336]], dtype=int32)"
      ]
     },
     "execution_count": 214,
     "metadata": {},
     "output_type": "execute_result"
    }
   ],
   "source": [
    "arr.cumprod(axis = 1)"
   ]
  },
  {
   "cell_type": "code",
   "execution_count": 215,
   "id": "7f80062d",
   "metadata": {},
   "outputs": [
    {
     "data": {
      "text/plain": [
       "array([[  0,   0,   0],\n",
       "       [  3,  12,  60],\n",
       "       [  6,  42, 336]], dtype=int32)"
      ]
     },
     "execution_count": 215,
     "metadata": {},
     "output_type": "execute_result"
    }
   ],
   "source": [
    "arr.cumprod(axis = 1)"
   ]
  },
  {
   "cell_type": "markdown",
   "id": "dcb9c3fd",
   "metadata": {},
   "source": [
    "## 3.3 불리언 배열을 위한 메서드"
   ]
  },
  {
   "cell_type": "code",
   "execution_count": 217,
   "id": "77c4c013",
   "metadata": {},
   "outputs": [
    {
     "data": {
      "text/plain": [
       "array([ 0.79820127,  0.65969594,  0.39242368, -1.08925821, -0.28931629,\n",
       "        1.80213562, -0.04767461, -2.13725186,  0.26404056,  0.44769723,\n",
       "       -0.52284144, -1.39749751,  0.70310412, -0.00808584,  0.67905126,\n",
       "       -0.38813809, -0.23540124,  0.48224596,  0.12614483, -0.78697942,\n",
       "        1.7175443 , -0.45407479, -1.0806064 , -0.49346269, -0.37382266,\n",
       "       -0.80098355,  1.50455848,  0.75602129,  0.02772809, -0.40925882,\n",
       "       -0.59181649, -0.54089678,  1.37818699,  0.02931626, -0.33898048,\n",
       "        0.77825517,  0.12466611,  0.03129688, -0.75801531, -0.45524876,\n",
       "        1.80626407,  0.51599748, -0.17561166, -0.37673613,  0.96231816,\n",
       "        1.53400579,  0.40438495,  2.88681228, -0.9641346 ,  0.92762127,\n",
       "        1.17107161,  0.46356489, -1.21871085, -0.64995288, -1.68635363,\n",
       "       -0.84953586, -0.26293902,  0.56932586,  0.66456103, -0.16310521,\n",
       "        1.38803265, -0.37025798,  0.33988477, -0.73683186, -0.88280744,\n",
       "        0.61926277, -1.0850648 , -1.51771781,  0.52571791, -0.00875387,\n",
       "       -0.31859882, -0.52738957,  1.17305344,  0.55266516, -0.05214674,\n",
       "        0.13898759, -1.01149871,  0.32643134, -0.49356185, -1.33378827,\n",
       "        0.42247813, -0.01794492, -0.27288623, -1.67610792,  0.39788384,\n",
       "       -0.9035328 , -1.41347149,  2.1435537 ,  0.17098526, -0.77405208,\n",
       "       -0.94922179, -0.41124387,  1.52537616, -1.64885352, -0.20216999,\n",
       "       -0.16108361,  0.97816787, -0.14988848,  1.42191915, -0.76252833])"
      ]
     },
     "execution_count": 217,
     "metadata": {},
     "output_type": "execute_result"
    }
   ],
   "source": [
    "arr = np.random.randn(100)\n",
    "arr"
   ]
  },
  {
   "cell_type": "code",
   "execution_count": 219,
   "id": "b007e380",
   "metadata": {},
   "outputs": [
    {
     "data": {
      "text/plain": [
       "array([ True,  True,  True, False, False,  True, False, False,  True,\n",
       "        True, False, False,  True, False,  True, False, False,  True,\n",
       "        True, False,  True, False, False, False, False, False,  True,\n",
       "        True,  True, False, False, False,  True,  True, False,  True,\n",
       "        True,  True, False, False,  True,  True, False, False,  True,\n",
       "        True,  True,  True, False,  True,  True,  True, False, False,\n",
       "       False, False, False,  True,  True, False,  True, False,  True,\n",
       "       False, False,  True, False, False,  True, False, False, False,\n",
       "        True,  True, False,  True, False,  True, False, False,  True,\n",
       "       False, False, False,  True, False, False,  True,  True, False,\n",
       "       False, False,  True, False, False, False,  True, False,  True,\n",
       "       False])"
      ]
     },
     "execution_count": 219,
     "metadata": {},
     "output_type": "execute_result"
    }
   ],
   "source": [
    "arr > 0"
   ]
  },
  {
   "cell_type": "code",
   "execution_count": 221,
   "id": "a7c9661b",
   "metadata": {},
   "outputs": [
    {
     "data": {
      "text/plain": [
       "45"
      ]
     },
     "execution_count": 221,
     "metadata": {},
     "output_type": "execute_result"
    }
   ],
   "source": [
    "(arr > 0).sum() #true는 1 false는 0이라서 합치면 true의 값의 개수라고 볼 수 있다."
   ]
  },
  {
   "cell_type": "code",
   "execution_count": 222,
   "id": "225b4a34",
   "metadata": {},
   "outputs": [],
   "source": [
    "bools = np.array([False, False, True, False])"
   ]
  },
  {
   "cell_type": "code",
   "execution_count": 223,
   "id": "c6675b5f",
   "metadata": {},
   "outputs": [
    {
     "data": {
      "text/plain": [
       "True"
      ]
     },
     "execution_count": 223,
     "metadata": {},
     "output_type": "execute_result"
    }
   ],
   "source": [
    "bools.any() #하나라도 true먄 true"
   ]
  },
  {
   "cell_type": "code",
   "execution_count": 225,
   "id": "88474ffe",
   "metadata": {},
   "outputs": [
    {
     "data": {
      "text/plain": [
       "False"
      ]
     },
     "execution_count": 225,
     "metadata": {},
     "output_type": "execute_result"
    }
   ],
   "source": [
    "bools.all() #전부가 true여야 -------- true mysql생각하자!"
   ]
  },
  {
   "cell_type": "markdown",
   "id": "3fdb14e9",
   "metadata": {},
   "source": [
    "# 3.4 정렬"
   ]
  },
  {
   "cell_type": "code",
   "execution_count": 226,
   "id": "341e7934",
   "metadata": {},
   "outputs": [
    {
     "data": {
      "text/plain": [
       "array([-0.23480802,  0.30167492, -0.06432798,  1.78915142,  0.8298317 ,\n",
       "        2.33577425])"
      ]
     },
     "execution_count": 226,
     "metadata": {},
     "output_type": "execute_result"
    }
   ],
   "source": [
    "arr = np.random.randn(6)\n",
    "arr"
   ]
  },
  {
   "cell_type": "code",
   "execution_count": 227,
   "id": "587bc783",
   "metadata": {},
   "outputs": [
    {
     "data": {
      "text/plain": [
       "array([-0.23480802, -0.06432798,  0.30167492,  0.8298317 ,  1.78915142,\n",
       "        2.33577425])"
      ]
     },
     "execution_count": 227,
     "metadata": {},
     "output_type": "execute_result"
    }
   ],
   "source": [
    "arr.sort()\n",
    "arr"
   ]
  },
  {
   "cell_type": "code",
   "execution_count": 242,
   "id": "7e9cd092",
   "metadata": {},
   "outputs": [
    {
     "data": {
      "text/plain": [
       "array([[-1.06573597, -0.85511776,  1.49892263],\n",
       "       [ 0.74913269, -1.16593224, -0.37638221],\n",
       "       [-0.77656434, -0.1655267 ,  1.21288375],\n",
       "       [-1.12772788, -1.8646453 ,  0.80728799],\n",
       "       [-1.31067117,  1.3530276 , -1.78420285]])"
      ]
     },
     "execution_count": 242,
     "metadata": {},
     "output_type": "execute_result"
    }
   ],
   "source": [
    "arr = np.random.randn(5, 3)\n",
    "arr"
   ]
  },
  {
   "cell_type": "code",
   "execution_count": 239,
   "id": "962834bf",
   "metadata": {},
   "outputs": [
    {
     "data": {
      "text/plain": [
       "array([[-1.32443127, -0.22519233,  0.81963586],\n",
       "       [-0.9611748 , -0.09465358,  0.72373363],\n",
       "       [ 0.1880109 ,  0.95892121,  1.05767846],\n",
       "       [ 0.13114876,  0.36408391,  0.48138786],\n",
       "       [-0.92001904,  2.07441914,  2.51940536]])"
      ]
     },
     "execution_count": 239,
     "metadata": {},
     "output_type": "execute_result"
    }
   ],
   "source": [
    "arr.sort() #default axis는 마지막 축을 따라서임 그러니까 1번축이 디폴트\n",
    "arr"
   ]
  },
  {
   "cell_type": "code",
   "execution_count": 244,
   "id": "123ed568",
   "metadata": {},
   "outputs": [
    {
     "data": {
      "text/plain": [
       "array([[-1.8646453 , -1.78420285, -1.31067117],\n",
       "       [-1.16593224, -1.12772788, -0.37638221],\n",
       "       [-1.06573597, -0.85511776,  0.80728799],\n",
       "       [-0.77656434, -0.1655267 ,  1.21288375],\n",
       "       [ 0.74913269,  1.3530276 ,  1.49892263]])"
      ]
     },
     "execution_count": 244,
     "metadata": {},
     "output_type": "execute_result"
    }
   ],
   "source": [
    "arr.sort(1)\n",
    "arr"
   ]
  },
  {
   "cell_type": "code",
   "execution_count": 243,
   "id": "a37ec20a",
   "metadata": {},
   "outputs": [
    {
     "data": {
      "text/plain": [
       "array([[-1.31067117, -1.8646453 , -1.78420285],\n",
       "       [-1.12772788, -1.16593224, -0.37638221],\n",
       "       [-1.06573597, -0.85511776,  0.80728799],\n",
       "       [-0.77656434, -0.1655267 ,  1.21288375],\n",
       "       [ 0.74913269,  1.3530276 ,  1.49892263]])"
      ]
     },
     "execution_count": 243,
     "metadata": {},
     "output_type": "execute_result"
    }
   ],
   "source": [
    "arr.sort(0)\n",
    "arr"
   ]
  },
  {
   "cell_type": "code",
   "execution_count": 246,
   "id": "a4e07468",
   "metadata": {},
   "outputs": [
    {
     "data": {
      "text/plain": [
       "array([-3.27728650e+00, -3.02553617e+00, -2.98143005e+00, -2.96921244e+00,\n",
       "       -2.66695402e+00, -2.63810863e+00, -2.63600018e+00, -2.57593002e+00,\n",
       "       -2.55309671e+00, -2.48958717e+00, -2.47928531e+00, -2.45527958e+00,\n",
       "       -2.39525764e+00, -2.37509376e+00, -2.31741634e+00, -2.28436094e+00,\n",
       "       -2.28187919e+00, -2.26533975e+00, -2.25199604e+00, -2.21968214e+00,\n",
       "       -2.17254772e+00, -2.11785337e+00, -2.05645527e+00, -2.04609480e+00,\n",
       "       -2.03039245e+00, -2.01860975e+00, -2.01530003e+00, -2.01481835e+00,\n",
       "       -2.00990479e+00, -2.00805756e+00, -1.99697914e+00, -1.98019662e+00,\n",
       "       -1.95964240e+00, -1.95929026e+00, -1.92020738e+00, -1.90671600e+00,\n",
       "       -1.88355520e+00, -1.88264835e+00, -1.87712158e+00, -1.87272587e+00,\n",
       "       -1.86540769e+00, -1.85820985e+00, -1.83452969e+00, -1.82066832e+00,\n",
       "       -1.81638888e+00, -1.77951870e+00, -1.77231191e+00, -1.76838090e+00,\n",
       "       -1.76377662e+00, -1.74712019e+00, -1.69291567e+00, -1.67670206e+00,\n",
       "       -1.66040661e+00, -1.65538254e+00, -1.65051120e+00, -1.64845754e+00,\n",
       "       -1.64461239e+00, -1.62561557e+00, -1.62502260e+00, -1.61963067e+00,\n",
       "       -1.59613081e+00, -1.58661360e+00, -1.58040203e+00, -1.57085049e+00,\n",
       "       -1.56284138e+00, -1.55881393e+00, -1.55746554e+00, -1.53623916e+00,\n",
       "       -1.52779560e+00, -1.52741771e+00, -1.51218797e+00, -1.51001779e+00,\n",
       "       -1.50683426e+00, -1.49481766e+00, -1.47509603e+00, -1.47441023e+00,\n",
       "       -1.46230934e+00, -1.45743357e+00, -1.45515981e+00, -1.45166551e+00,\n",
       "       -1.42054250e+00, -1.40848239e+00, -1.40255174e+00, -1.40116924e+00,\n",
       "       -1.40007558e+00, -1.39888278e+00, -1.38402952e+00, -1.37778767e+00,\n",
       "       -1.37737968e+00, -1.36095574e+00, -1.35170625e+00, -1.35106712e+00,\n",
       "       -1.33349295e+00, -1.32804504e+00, -1.32703568e+00, -1.32170086e+00,\n",
       "       -1.31621391e+00, -1.30487936e+00, -1.29476897e+00, -1.29156206e+00,\n",
       "       -1.29099986e+00, -1.28065880e+00, -1.27519962e+00, -1.26574536e+00,\n",
       "       -1.25489769e+00, -1.23912627e+00, -1.23671024e+00, -1.23411239e+00,\n",
       "       -1.23218565e+00, -1.22871717e+00, -1.22700000e+00, -1.22479469e+00,\n",
       "       -1.21619900e+00, -1.21331500e+00, -1.21136186e+00, -1.21028761e+00,\n",
       "       -1.20852209e+00, -1.20774696e+00, -1.20356074e+00, -1.19714031e+00,\n",
       "       -1.19569368e+00, -1.19193142e+00, -1.19122913e+00, -1.19031399e+00,\n",
       "       -1.17017697e+00, -1.16726570e+00, -1.16503237e+00, -1.15794625e+00,\n",
       "       -1.14368363e+00, -1.13853372e+00, -1.13463109e+00, -1.13326752e+00,\n",
       "       -1.13244533e+00, -1.13063354e+00, -1.12734592e+00, -1.12648690e+00,\n",
       "       -1.12277126e+00, -1.12157959e+00, -1.10936304e+00, -1.10900286e+00,\n",
       "       -1.09247733e+00, -1.09125735e+00, -1.08488300e+00, -1.08063088e+00,\n",
       "       -1.08015362e+00, -1.07675805e+00, -1.07541089e+00, -1.07173770e+00,\n",
       "       -1.06904706e+00, -1.06729212e+00, -1.06510439e+00, -1.06300461e+00,\n",
       "       -1.06110243e+00, -1.06041995e+00, -1.05927908e+00, -1.05878545e+00,\n",
       "       -1.05226906e+00, -1.05047037e+00, -1.04472364e+00, -1.03406757e+00,\n",
       "       -1.02510012e+00, -1.02501416e+00, -1.02036382e+00, -1.01979419e+00,\n",
       "       -1.01960307e+00, -1.01784512e+00, -1.01580644e+00, -1.00198185e+00,\n",
       "       -9.92573667e-01, -9.87439371e-01, -9.80703566e-01, -9.77656791e-01,\n",
       "       -9.65651572e-01, -9.60889785e-01, -9.59591876e-01, -9.57365529e-01,\n",
       "       -9.51698737e-01, -9.50979537e-01, -9.49995542e-01, -9.47689828e-01,\n",
       "       -9.43109846e-01, -9.40695075e-01, -9.34732769e-01, -9.28002137e-01,\n",
       "       -9.26448952e-01, -9.24300193e-01, -9.22506336e-01, -9.18707022e-01,\n",
       "       -9.16887291e-01, -9.05623641e-01, -9.03304714e-01, -9.00934945e-01,\n",
       "       -8.99257895e-01, -8.98664520e-01, -8.98156048e-01, -8.98044671e-01,\n",
       "       -8.97832183e-01, -8.97774305e-01, -8.87848386e-01, -8.83127383e-01,\n",
       "       -8.80029516e-01, -8.78218416e-01, -8.71787103e-01, -8.62888007e-01,\n",
       "       -8.60085297e-01, -8.59526506e-01, -8.59496326e-01, -8.58016419e-01,\n",
       "       -8.56100479e-01, -8.56085900e-01, -8.50053295e-01, -8.39063630e-01,\n",
       "       -8.37498795e-01, -8.37146059e-01, -8.32061431e-01, -8.31150652e-01,\n",
       "       -8.29611525e-01, -8.25553371e-01, -8.22263610e-01, -8.14643420e-01,\n",
       "       -8.14514580e-01, -8.10639330e-01, -8.08895816e-01, -8.03310030e-01,\n",
       "       -7.97896116e-01, -7.91230274e-01, -7.90212779e-01, -7.86366284e-01,\n",
       "       -7.81873846e-01, -7.80880357e-01, -7.67470925e-01, -7.64393761e-01,\n",
       "       -7.60363942e-01, -7.60023026e-01, -7.55295283e-01, -7.51271658e-01,\n",
       "       -7.50471472e-01, -7.46674454e-01, -7.45011334e-01, -7.44721067e-01,\n",
       "       -7.38884201e-01, -7.36630360e-01, -7.25813307e-01, -7.25526191e-01,\n",
       "       -7.20862113e-01, -7.16508675e-01, -7.12389484e-01, -7.12078402e-01,\n",
       "       -7.07669932e-01, -7.05762911e-01, -7.05238523e-01, -7.00944717e-01,\n",
       "       -7.00535436e-01, -6.98166324e-01, -6.97455394e-01, -6.90793248e-01,\n",
       "       -6.87263623e-01, -6.86590930e-01, -6.84049235e-01, -6.83136507e-01,\n",
       "       -6.80978778e-01, -6.78742050e-01, -6.75479925e-01, -6.73825311e-01,\n",
       "       -6.72864948e-01, -6.71010155e-01, -6.61400338e-01, -6.57939575e-01,\n",
       "       -6.56030998e-01, -6.49459814e-01, -6.47609331e-01, -6.45012653e-01,\n",
       "       -6.43764428e-01, -6.42608040e-01, -6.39359932e-01, -6.38574123e-01,\n",
       "       -6.28608643e-01, -6.28604638e-01, -6.23790623e-01, -6.23314469e-01,\n",
       "       -6.22859021e-01, -6.08318716e-01, -6.04748290e-01, -6.04113348e-01,\n",
       "       -6.02652554e-01, -6.02394754e-01, -6.01207253e-01, -5.99935688e-01,\n",
       "       -5.91348674e-01, -5.89230571e-01, -5.88534887e-01, -5.86929866e-01,\n",
       "       -5.86221019e-01, -5.85951125e-01, -5.85900482e-01, -5.82834678e-01,\n",
       "       -5.81941450e-01, -5.81684667e-01, -5.78378240e-01, -5.76187435e-01,\n",
       "       -5.74296644e-01, -5.64835292e-01, -5.63419244e-01, -5.61735746e-01,\n",
       "       -5.60277477e-01, -5.59397866e-01, -5.53472603e-01, -5.52774035e-01,\n",
       "       -5.52746022e-01, -5.51550280e-01, -5.50108296e-01, -5.49946667e-01,\n",
       "       -5.46099864e-01, -5.44841303e-01, -5.43534730e-01, -5.39307277e-01,\n",
       "       -5.31209286e-01, -5.30329764e-01, -5.29865361e-01, -5.26505714e-01,\n",
       "       -5.25831653e-01, -5.25563801e-01, -5.25259456e-01, -5.24939488e-01,\n",
       "       -5.24357595e-01, -5.16093542e-01, -5.15961074e-01, -5.09912390e-01,\n",
       "       -5.09006552e-01, -5.08000508e-01, -5.07319773e-01, -5.03867160e-01,\n",
       "       -5.03760516e-01, -5.00874806e-01, -5.00124278e-01, -4.93404178e-01,\n",
       "       -4.93144037e-01, -4.92811578e-01, -4.91260527e-01, -4.90370607e-01,\n",
       "       -4.78154076e-01, -4.77273342e-01, -4.68661439e-01, -4.68444927e-01,\n",
       "       -4.63743193e-01, -4.60256499e-01, -4.60022729e-01, -4.59696187e-01,\n",
       "       -4.47050461e-01, -4.46645693e-01, -4.45565510e-01, -4.43712537e-01,\n",
       "       -4.41722281e-01, -4.40865796e-01, -4.39212203e-01, -4.38481307e-01,\n",
       "       -4.38277287e-01, -4.29657268e-01, -4.28617867e-01, -4.28502828e-01,\n",
       "       -4.25711675e-01, -4.23053397e-01, -4.22360157e-01, -4.11323829e-01,\n",
       "       -4.08071506e-01, -4.06092009e-01, -4.06029354e-01, -4.03818611e-01,\n",
       "       -4.03421718e-01, -4.00599121e-01, -3.98475173e-01, -3.93335421e-01,\n",
       "       -3.91607601e-01, -3.83966549e-01, -3.83296559e-01, -3.82137411e-01,\n",
       "       -3.77396154e-01, -3.72960406e-01, -3.72319987e-01, -3.70180121e-01,\n",
       "       -3.68940489e-01, -3.67034276e-01, -3.66558843e-01, -3.66303304e-01,\n",
       "       -3.65640787e-01, -3.60328179e-01, -3.58694871e-01, -3.54923801e-01,\n",
       "       -3.54594048e-01, -3.46648859e-01, -3.42421705e-01, -3.41629214e-01,\n",
       "       -3.38628978e-01, -3.34628329e-01, -3.31795122e-01, -3.29875860e-01,\n",
       "       -3.29861850e-01, -3.25660945e-01, -3.25134708e-01, -3.24923485e-01,\n",
       "       -3.24359724e-01, -3.22970715e-01, -3.22608636e-01, -3.19831054e-01,\n",
       "       -3.13378614e-01, -3.10964720e-01, -3.07857273e-01, -3.04017960e-01,\n",
       "       -3.03077444e-01, -3.02167256e-01, -3.01363698e-01, -2.95929724e-01,\n",
       "       -2.95075948e-01, -2.93985113e-01, -2.89940733e-01, -2.87099081e-01,\n",
       "       -2.82831303e-01, -2.80227435e-01, -2.79201086e-01, -2.66944365e-01,\n",
       "       -2.66135305e-01, -2.65004614e-01, -2.53359209e-01, -2.52582642e-01,\n",
       "       -2.49826415e-01, -2.49727163e-01, -2.49052542e-01, -2.48242440e-01,\n",
       "       -2.46104677e-01, -2.43862439e-01, -2.41312295e-01, -2.40716798e-01,\n",
       "       -2.37150894e-01, -2.34325709e-01, -2.26694529e-01, -2.25568668e-01,\n",
       "       -2.21542514e-01, -2.18432647e-01, -2.17990986e-01, -2.14713053e-01,\n",
       "       -2.11517896e-01, -2.08375159e-01, -2.08136865e-01, -2.07475972e-01,\n",
       "       -2.03427494e-01, -2.02909631e-01, -2.02759754e-01, -1.98862101e-01,\n",
       "       -1.98366212e-01, -1.97821855e-01, -1.95251360e-01, -1.94741430e-01,\n",
       "       -1.89607648e-01, -1.88305258e-01, -1.85970809e-01, -1.85507081e-01,\n",
       "       -1.85128223e-01, -1.84694534e-01, -1.81707358e-01, -1.75971679e-01,\n",
       "       -1.72274768e-01, -1.69066878e-01, -1.67441890e-01, -1.67124426e-01,\n",
       "       -1.61462657e-01, -1.45418879e-01, -1.45205552e-01, -1.32062280e-01,\n",
       "       -1.31434395e-01, -1.28248523e-01, -1.26381630e-01, -1.20347619e-01,\n",
       "       -1.12215299e-01, -1.11786558e-01, -1.11572287e-01, -1.08570179e-01,\n",
       "       -1.06827736e-01, -1.03301282e-01, -9.32367657e-02, -9.02404501e-02,\n",
       "       -8.76818049e-02, -8.20737313e-02, -7.63191305e-02, -7.45807878e-02,\n",
       "       -7.38089612e-02, -7.30700725e-02, -7.22635964e-02, -6.31346127e-02,\n",
       "       -6.10564885e-02, -5.82141684e-02, -5.69714853e-02, -5.63500387e-02,\n",
       "       -5.53538740e-02, -4.94758370e-02, -4.28775615e-02, -3.65853157e-02,\n",
       "       -3.32568074e-02, -3.24171410e-02, -2.99570697e-02, -2.55990024e-02,\n",
       "       -2.51841543e-02, -2.50109983e-02, -2.03788765e-02, -2.03075696e-02,\n",
       "       -1.15715073e-02, -2.08598311e-03, -1.95281115e-03, -1.19021279e-03,\n",
       "        4.38917342e-03,  7.04635152e-03,  7.74272631e-03,  9.43797877e-03,\n",
       "        1.08371029e-02,  1.52034844e-02,  1.71744965e-02,  1.83940312e-02,\n",
       "        1.85951642e-02,  2.02472472e-02,  2.23614046e-02,  3.69793267e-02,\n",
       "        3.78737944e-02,  3.94882377e-02,  3.99895978e-02,  4.78297183e-02,\n",
       "        5.14453645e-02,  5.23504648e-02,  5.49376541e-02,  5.83778828e-02,\n",
       "        6.17212228e-02,  6.19423128e-02,  6.59017462e-02,  6.62186614e-02,\n",
       "        6.72602523e-02,  6.86767145e-02,  7.05897324e-02,  7.25742064e-02,\n",
       "        7.92684572e-02,  7.98237878e-02,  8.14853870e-02,  8.30946462e-02,\n",
       "        8.33688112e-02,  8.47458521e-02,  9.02442665e-02,  9.19238191e-02,\n",
       "        9.60165984e-02,  9.93387443e-02,  1.00413808e-01,  1.07132343e-01,\n",
       "        1.08026023e-01,  1.11401700e-01,  1.12803336e-01,  1.14445565e-01,\n",
       "        1.15709121e-01,  1.19581842e-01,  1.21380333e-01,  1.22580429e-01,\n",
       "        1.23040148e-01,  1.27000103e-01,  1.27265547e-01,  1.29147395e-01,\n",
       "        1.29225736e-01,  1.36311499e-01,  1.45200113e-01,  1.51042733e-01,\n",
       "        1.52228365e-01,  1.54949307e-01,  1.57178570e-01,  1.58464434e-01,\n",
       "        1.64254798e-01,  1.65055123e-01,  1.67298488e-01,  1.70504729e-01,\n",
       "        1.70604153e-01,  1.71095178e-01,  1.71121503e-01,  1.72369110e-01,\n",
       "        1.80148335e-01,  1.81381350e-01,  1.85678323e-01,  1.86602063e-01,\n",
       "        1.90309901e-01,  1.94853619e-01,  1.96612614e-01,  1.98069369e-01,\n",
       "        2.03619486e-01,  2.05954508e-01,  2.06964243e-01,  2.07084057e-01,\n",
       "        2.08443681e-01,  2.10180008e-01,  2.13757088e-01,  2.15110736e-01,\n",
       "        2.17724718e-01,  2.18631563e-01,  2.18875438e-01,  2.22263512e-01,\n",
       "        2.31078227e-01,  2.34329668e-01,  2.37458393e-01,  2.37814655e-01,\n",
       "        2.41176429e-01,  2.42223716e-01,  2.53251825e-01,  2.58100347e-01,\n",
       "        2.58256899e-01,  2.58774107e-01,  2.61992830e-01,  2.65879055e-01,\n",
       "        2.66225825e-01,  2.73036859e-01,  2.73666372e-01,  2.80301278e-01,\n",
       "        2.81205928e-01,  2.86067094e-01,  2.86130296e-01,  2.98659000e-01,\n",
       "        3.02341780e-01,  3.06732656e-01,  3.06870682e-01,  3.09979415e-01,\n",
       "        3.10219810e-01,  3.16171799e-01,  3.17319757e-01,  3.19346601e-01,\n",
       "        3.19653024e-01,  3.22529807e-01,  3.22933822e-01,  3.25222851e-01,\n",
       "        3.26100825e-01,  3.33983475e-01,  3.36780476e-01,  3.46583081e-01,\n",
       "        3.47318366e-01,  3.51954101e-01,  3.55021257e-01,  3.55957888e-01,\n",
       "        3.62684181e-01,  3.68618628e-01,  3.69806934e-01,  3.71420581e-01,\n",
       "        3.73174838e-01,  3.74632925e-01,  3.86102208e-01,  3.89122434e-01,\n",
       "        3.94638490e-01,  3.95389966e-01,  4.02537598e-01,  4.06270337e-01,\n",
       "        4.06851519e-01,  4.10426498e-01,  4.19438211e-01,  4.19885191e-01,\n",
       "        4.20995239e-01,  4.24453061e-01,  4.27474304e-01,  4.31948356e-01,\n",
       "        4.32880362e-01,  4.33709083e-01,  4.40889341e-01,  4.41504331e-01,\n",
       "        4.42466888e-01,  4.46603998e-01,  4.51707596e-01,  4.52989662e-01,\n",
       "        4.54349781e-01,  4.55029559e-01,  4.56484723e-01,  4.58804746e-01,\n",
       "        4.60445400e-01,  4.63760028e-01,  4.64345408e-01,  4.69954533e-01,\n",
       "        4.71183172e-01,  4.71750645e-01,  4.73019777e-01,  4.75426141e-01,\n",
       "        4.76669763e-01,  4.76827532e-01,  4.77359022e-01,  4.79992661e-01,\n",
       "        4.80918856e-01,  4.93472029e-01,  4.94451922e-01,  4.96763658e-01,\n",
       "        4.98419807e-01,  5.02691361e-01,  5.04241417e-01,  5.05322502e-01,\n",
       "        5.05575144e-01,  5.06918216e-01,  5.10643110e-01,  5.13408030e-01,\n",
       "        5.17822134e-01,  5.19680679e-01,  5.19683739e-01,  5.22201777e-01,\n",
       "        5.22412295e-01,  5.25785194e-01,  5.27266167e-01,  5.32010705e-01,\n",
       "        5.38553485e-01,  5.40506701e-01,  5.41933747e-01,  5.47212402e-01,\n",
       "        5.49737843e-01,  5.51780279e-01,  5.52405918e-01,  5.53501386e-01,\n",
       "        5.54167031e-01,  5.55754192e-01,  5.57912346e-01,  5.59653391e-01,\n",
       "        5.66713873e-01,  5.71081395e-01,  5.71155740e-01,  5.75803207e-01,\n",
       "        5.76342976e-01,  5.79246415e-01,  5.84004464e-01,  5.84567215e-01,\n",
       "        5.84638714e-01,  5.85979537e-01,  5.86299782e-01,  5.88472377e-01,\n",
       "        5.91761548e-01,  5.93178254e-01,  5.95500443e-01,  6.12788635e-01,\n",
       "        6.13214106e-01,  6.14508612e-01,  6.17986892e-01,  6.18451090e-01,\n",
       "        6.20543896e-01,  6.21972341e-01,  6.22255643e-01,  6.22297972e-01,\n",
       "        6.26067755e-01,  6.27252340e-01,  6.27299775e-01,  6.31074226e-01,\n",
       "        6.32085042e-01,  6.33347951e-01,  6.33872695e-01,  6.40363036e-01,\n",
       "        6.43598983e-01,  6.45102719e-01,  6.49127913e-01,  6.55678102e-01,\n",
       "        6.59843951e-01,  6.65055128e-01,  6.72002670e-01,  6.78925106e-01,\n",
       "        6.79730737e-01,  6.84600473e-01,  6.85992455e-01,  6.87729637e-01,\n",
       "        6.99631406e-01,  7.03219354e-01,  7.04426411e-01,  7.15049054e-01,\n",
       "        7.15052937e-01,  7.17574358e-01,  7.23525932e-01,  7.23537087e-01,\n",
       "        7.27597842e-01,  7.34604408e-01,  7.34890728e-01,  7.48517103e-01,\n",
       "        7.52360887e-01,  7.56988672e-01,  7.61339505e-01,  7.63569920e-01,\n",
       "        7.64496146e-01,  7.66783439e-01,  7.67825670e-01,  7.68845685e-01,\n",
       "        7.70208421e-01,  7.75942825e-01,  7.76550904e-01,  7.77911250e-01,\n",
       "        7.86303330e-01,  7.86348887e-01,  7.88573214e-01,  8.02148628e-01,\n",
       "        8.03640153e-01,  8.03874969e-01,  8.05063277e-01,  8.07625567e-01,\n",
       "        8.12418747e-01,  8.13487017e-01,  8.21343740e-01,  8.25071684e-01,\n",
       "        8.26795730e-01,  8.28612190e-01,  8.30655590e-01,  8.30692537e-01,\n",
       "        8.31696558e-01,  8.32112081e-01,  8.32782248e-01,  8.44144204e-01,\n",
       "        8.48184351e-01,  8.52990859e-01,  8.59062734e-01,  8.60888750e-01,\n",
       "        8.62260780e-01,  8.71505586e-01,  8.73987887e-01,  8.83045428e-01,\n",
       "        8.99792532e-01,  9.01012911e-01,  9.05095151e-01,  9.05820297e-01,\n",
       "        9.06899549e-01,  9.09615313e-01,  9.15442301e-01,  9.18633442e-01,\n",
       "        9.19340126e-01,  9.19398272e-01,  9.22464995e-01,  9.31016410e-01,\n",
       "        9.32810324e-01,  9.33257194e-01,  9.33816458e-01,  9.36084043e-01,\n",
       "        9.51786964e-01,  9.54774794e-01,  9.57217156e-01,  9.58040210e-01,\n",
       "        9.58165251e-01,  9.61723260e-01,  9.64429164e-01,  9.66503308e-01,\n",
       "        9.67838908e-01,  9.68472231e-01,  9.71502679e-01,  9.74561766e-01,\n",
       "        9.77395726e-01,  9.79241185e-01,  9.86699424e-01,  9.89845885e-01,\n",
       "        9.90012146e-01,  9.98500884e-01,  9.99833507e-01,  9.99871079e-01,\n",
       "        1.00238544e+00,  1.00333072e+00,  1.01146275e+00,  1.01445943e+00,\n",
       "        1.01454617e+00,  1.01504879e+00,  1.01537447e+00,  1.01542832e+00,\n",
       "        1.01913142e+00,  1.03319783e+00,  1.05881936e+00,  1.06148574e+00,\n",
       "        1.06202532e+00,  1.06306435e+00,  1.06806034e+00,  1.07092386e+00,\n",
       "        1.07563272e+00,  1.07661795e+00,  1.07794952e+00,  1.07896298e+00,\n",
       "        1.08252657e+00,  1.09093658e+00,  1.09853859e+00,  1.10246647e+00,\n",
       "        1.10530111e+00,  1.10955695e+00,  1.11143742e+00,  1.11216544e+00,\n",
       "        1.11548691e+00,  1.11778337e+00,  1.12117853e+00,  1.12377420e+00,\n",
       "        1.12601116e+00,  1.12656187e+00,  1.14874259e+00,  1.15547881e+00,\n",
       "        1.17550185e+00,  1.17716620e+00,  1.18002541e+00,  1.18150358e+00,\n",
       "        1.18301439e+00,  1.19025001e+00,  1.19462423e+00,  1.20155130e+00,\n",
       "        1.20518050e+00,  1.20846858e+00,  1.21612114e+00,  1.22403432e+00,\n",
       "        1.22948187e+00,  1.22956504e+00,  1.24032650e+00,  1.24498732e+00,\n",
       "        1.24558007e+00,  1.25876808e+00,  1.26610430e+00,  1.26916945e+00,\n",
       "        1.27473802e+00,  1.27637389e+00,  1.28615696e+00,  1.30340591e+00,\n",
       "        1.31137458e+00,  1.31938953e+00,  1.32539509e+00,  1.32565121e+00,\n",
       "        1.34245548e+00,  1.34795765e+00,  1.35083730e+00,  1.36390927e+00,\n",
       "        1.36744399e+00,  1.36945881e+00,  1.37173663e+00,  1.37189480e+00,\n",
       "        1.37929749e+00,  1.40422677e+00,  1.41871366e+00,  1.42203936e+00,\n",
       "        1.42211419e+00,  1.42713736e+00,  1.43320434e+00,  1.44078739e+00,\n",
       "        1.46872591e+00,  1.46881656e+00,  1.47170769e+00,  1.47317890e+00,\n",
       "        1.47695756e+00,  1.48294853e+00,  1.48463367e+00,  1.48491648e+00,\n",
       "        1.49458705e+00,  1.50251574e+00,  1.51156757e+00,  1.54034294e+00,\n",
       "        1.54197197e+00,  1.54930540e+00,  1.56298581e+00,  1.56306506e+00,\n",
       "        1.57671964e+00,  1.60188640e+00,  1.61434318e+00,  1.63147066e+00,\n",
       "        1.63512064e+00,  1.64198337e+00,  1.65733874e+00,  1.69163693e+00,\n",
       "        1.69203754e+00,  1.69661990e+00,  1.69879409e+00,  1.71668188e+00,\n",
       "        1.73137286e+00,  1.73652484e+00,  1.74065765e+00,  1.74581433e+00,\n",
       "        1.75309199e+00,  1.76026140e+00,  1.77895204e+00,  1.78643802e+00,\n",
       "        1.78897384e+00,  1.79901824e+00,  1.80190920e+00,  1.80568534e+00,\n",
       "        1.82283578e+00,  1.82302892e+00,  1.82457009e+00,  1.85571828e+00,\n",
       "        1.85583304e+00,  1.86041032e+00,  1.86695738e+00,  1.88193776e+00,\n",
       "        1.92301310e+00,  1.93471589e+00,  1.93666272e+00,  1.93785408e+00,\n",
       "        1.94650476e+00,  1.95336124e+00,  2.04256196e+00,  2.04559035e+00,\n",
       "        2.08875102e+00,  2.10619930e+00,  2.14696100e+00,  2.15610865e+00,\n",
       "        2.17989518e+00,  2.20358703e+00,  2.31163276e+00,  2.43185233e+00,\n",
       "        2.48995345e+00,  2.49873396e+00,  2.50464124e+00,  2.53310687e+00,\n",
       "        2.57043410e+00,  2.60364170e+00,  2.79831078e+00,  2.80852943e+00,\n",
       "        2.81267460e+00,  2.81596979e+00,  2.88944042e+00,  2.98541440e+00])"
      ]
     },
     "execution_count": 246,
     "metadata": {},
     "output_type": "execute_result"
    }
   ],
   "source": [
    "large_arr = np.random.randn(1000)\n",
    "large_arr.sort()\n",
    "large_arr"
   ]
  },
  {
   "cell_type": "code",
   "execution_count": 247,
   "id": "0c7958cf",
   "metadata": {},
   "outputs": [
    {
     "data": {
      "text/plain": [
       "50.0"
      ]
     },
     "execution_count": 247,
     "metadata": {},
     "output_type": "execute_result"
    }
   ],
   "source": [
    "int(0.05 * len(large_arr))"
   ]
  },
  {
   "cell_type": "code",
   "execution_count": 248,
   "id": "c494624b",
   "metadata": {},
   "outputs": [
    {
     "data": {
      "text/plain": [
       "-1.692915668969467"
      ]
     },
     "execution_count": 248,
     "metadata": {},
     "output_type": "execute_result"
    }
   ],
   "source": [
    "large_arr[int(0.05 * len(large_arr))]"
   ]
  },
  {
   "cell_type": "code",
   "execution_count": 252,
   "id": "5a910ea9",
   "metadata": {},
   "outputs": [
    {
     "data": {
      "text/plain": [
       "array([[-0.33011585,  0.82981856,  0.62845929],\n",
       "       [ 0.49925252,  0.92651474, -0.3552945 ],\n",
       "       [ 1.44821121, -1.36012166,  1.43974288],\n",
       "       [ 0.16913198, -1.24256873,  2.02274551],\n",
       "       [-0.92444843,  1.72588209, -1.93893041]])"
      ]
     },
     "execution_count": 252,
     "metadata": {},
     "output_type": "execute_result"
    }
   ],
   "source": [
    "arr = np.random.randn(5, 3)\n",
    "arr"
   ]
  },
  {
   "cell_type": "code",
   "execution_count": 257,
   "id": "9808871a",
   "metadata": {},
   "outputs": [
    {
     "data": {
      "text/plain": [
       "array([[-0.33011585,  0.62845929,  0.82981856],\n",
       "       [-0.3552945 ,  0.49925252,  0.92651474],\n",
       "       [-1.36012166,  1.43974288,  1.44821121],\n",
       "       [-1.24256873,  0.16913198,  2.02274551],\n",
       "       [-1.93893041, -0.92444843,  1.72588209]])"
      ]
     },
     "execution_count": 257,
     "metadata": {},
     "output_type": "execute_result"
    }
   ],
   "source": [
    "r = np.sort(arr, 1) #원본은 유지된다. np.sort(대상, 축)\n",
    "r"
   ]
  },
  {
   "cell_type": "code",
   "execution_count": 272,
   "id": "bac78575",
   "metadata": {},
   "outputs": [
    {
     "data": {
      "text/plain": [
       "array([[-0.33011585,  0.82981856,  0.62845929],\n",
       "       [ 0.49925252,  0.92651474, -0.3552945 ],\n",
       "       [ 1.44821121, -1.36012166,  1.43974288],\n",
       "       [ 0.16913198, -1.24256873,  2.02274551],\n",
       "       [-0.92444843,  1.72588209, -1.93893041]])"
      ]
     },
     "execution_count": 272,
     "metadata": {},
     "output_type": "execute_result"
    }
   ],
   "source": [
    "arr #원본은 유지되었다."
   ]
  },
  {
   "cell_type": "markdown",
   "id": "2f0c1b93",
   "metadata": {},
   "source": [
    "### 3.5 집합 관련 함수"
   ]
  },
  {
   "cell_type": "markdown",
   "id": "d565bdc6",
   "metadata": {},
   "source": [
    "설명을 보기를 원하면 shift tab하면 눌린다 함수에서"
   ]
  },
  {
   "cell_type": "code",
   "execution_count": 264,
   "id": "bc85d74e",
   "metadata": {},
   "outputs": [
    {
     "data": {
      "text/plain": [
       "array(['bob', 'joe', 'will'], dtype='<U4')"
      ]
     },
     "execution_count": 264,
     "metadata": {},
     "output_type": "execute_result"
    }
   ],
   "source": [
    "names = np.array(['bob', 'joe', 'will', 'bob', 'will', 'joe', 'joe'])\n",
    "\n",
    "np.unique(names) #유일값하나씩 가져옴"
   ]
  },
  {
   "cell_type": "code",
   "execution_count": 265,
   "id": "83cd3d9c",
   "metadata": {},
   "outputs": [
    {
     "data": {
      "text/plain": [
       "{1, 2, 3, 4}"
      ]
     },
     "execution_count": 265,
     "metadata": {},
     "output_type": "execute_result"
    }
   ],
   "source": [
    "a = [1, 2, 3, 4]\n",
    "set(a)"
   ]
  },
  {
   "cell_type": "code",
   "execution_count": 266,
   "id": "4d300777",
   "metadata": {},
   "outputs": [
    {
     "data": {
      "text/plain": [
       "array([ 1,  2,  3,  4, 41])"
      ]
     },
     "execution_count": 266,
     "metadata": {},
     "output_type": "execute_result"
    }
   ],
   "source": [
    "ints = np.array([3, 2, 1,3 ,41 ,4, 2 , 3 ,1])\n",
    "np.unique(ints)"
   ]
  },
  {
   "cell_type": "code",
   "execution_count": 269,
   "id": "96ef88d5",
   "metadata": {},
   "outputs": [
    {
     "data": {
      "text/plain": [
       "['bob', 'joe', 'will']"
      ]
     },
     "execution_count": 269,
     "metadata": {},
     "output_type": "execute_result"
    }
   ],
   "source": [
    "sorted(set(names)) #이거랑 같다 unique는 set과 딕셔너리는 순서가 없기 때문인데 파이썬 버전업그레이드가 해준듯."
   ]
  },
  {
   "cell_type": "code",
   "execution_count": 271,
   "id": "037c9a2a",
   "metadata": {},
   "outputs": [
    {
     "data": {
      "text/plain": [
       "array([ True, False, False,  True,  True, False,  True])"
      ]
     },
     "execution_count": 271,
     "metadata": {},
     "output_type": "execute_result"
    }
   ],
   "source": [
    "values = np.array([6, 0, 0, 3, 2, 5, 6])\n",
    "np.in1d(values, [2, 3, 6]) #values에 236이 있는지 true false 리턴"
   ]
  },
  {
   "cell_type": "markdown",
   "id": "250d8c36",
   "metadata": {},
   "source": [
    "### 1d가 붙는 함수는 대부분 집합관련의 함수"
   ]
  },
  {
   "cell_type": "markdown",
   "id": "af113780",
   "metadata": {},
   "source": [
    "## 4. 배열 데이터의 파일 입출력"
   ]
  },
  {
   "cell_type": "code",
   "execution_count": 274,
   "id": "efc3e7fd",
   "metadata": {},
   "outputs": [],
   "source": [
    "arr = np.arange(10)\n",
    "np.save('some_array', arr)"
   ]
  },
  {
   "cell_type": "code",
   "execution_count": 275,
   "id": "dd5e1871",
   "metadata": {},
   "outputs": [
    {
     "data": {
      "text/plain": [
       "array([0, 1, 2, 3, 4, 5, 6, 7, 8, 9])"
      ]
     },
     "execution_count": 275,
     "metadata": {},
     "output_type": "execute_result"
    }
   ],
   "source": [
    "np.load('some_array.npy')"
   ]
  },
  {
   "cell_type": "code",
   "execution_count": 276,
   "id": "9891b06c",
   "metadata": {},
   "outputs": [],
   "source": [
    "np.savez('array_archive.npz', a=arr, b=arr) #여러개를 저장하고 싶을때"
   ]
  },
  {
   "cell_type": "code",
   "execution_count": 277,
   "id": "932f6443",
   "metadata": {},
   "outputs": [
    {
     "name": "stdout",
     "output_type": "stream",
     "text": [
      " C 드라이브의 볼륨에는 이름이 없습니다.\n",
      " 볼륨 일련 번호: E461-57B5\n",
      "\n",
      " C:\\Users\\sweet\\Desktop\\코딩\\numpy+pandas 디렉터리\n",
      "\n",
      "2021-07-22  오후 02:30    <DIR>          .\n",
      "2021-07-21  오후 05:32    <DIR>          ..\n",
      "2021-07-22  오전 09:40    <DIR>          .ipynb_checkpoints\n",
      "2021-07-22  오후 02:30               570 array_archive.npz\n",
      "2021-07-22  오전 09:42           375,435 np+pd (1day).ipynb\n",
      "2021-07-22  오후 02:29           135,028 np+pd (2day).ipynb\n",
      "2021-07-21  오후 05:32           182,704 psj.png\n",
      "2021-07-22  오후 02:29               168 some_array.npy\n",
      "               5개 파일             693,905 바이트\n",
      "               3개 디렉터리   5,095,862,272 바이트 남음\n"
     ]
    }
   ],
   "source": [
    "!dir"
   ]
  },
  {
   "cell_type": "code",
   "execution_count": 279,
   "id": "745e3008",
   "metadata": {},
   "outputs": [],
   "source": [
    "arch = np.load('array_archive.npz')"
   ]
  },
  {
   "cell_type": "code",
   "execution_count": 280,
   "id": "ffceb49a",
   "metadata": {},
   "outputs": [
    {
     "data": {
      "text/plain": [
       "array([0, 1, 2, 3, 4, 5, 6, 7, 8, 9])"
      ]
     },
     "execution_count": 280,
     "metadata": {},
     "output_type": "execute_result"
    }
   ],
   "source": [
    "arch['a']"
   ]
  },
  {
   "cell_type": "code",
   "execution_count": 281,
   "id": "73e9732f",
   "metadata": {},
   "outputs": [
    {
     "data": {
      "text/plain": [
       "array([0, 1, 2, 3, 4, 5, 6, 7, 8, 9])"
      ]
     },
     "execution_count": 281,
     "metadata": {},
     "output_type": "execute_result"
    }
   ],
   "source": [
    "arch['b']"
   ]
  },
  {
   "cell_type": "code",
   "execution_count": 282,
   "id": "51ff08ba",
   "metadata": {},
   "outputs": [],
   "source": [
    "np.savez_compressed('arrays_compressed.npz', a = arr, b = arr) #압축저장"
   ]
  },
  {
   "cell_type": "code",
   "execution_count": 284,
   "id": "d321a4d5",
   "metadata": {},
   "outputs": [
    {
     "name": "stdout",
     "output_type": "stream",
     "text": [
      " C 드라이브의 볼륨에는 이름이 없습니다.\n",
      " 볼륨 일련 번호: E461-57B5\n",
      "\n",
      " C:\\Users\\sweet\\Desktop\\코딩\\numpy+pandas 디렉터리\n",
      "\n",
      "2021-07-22  오후 02:33    <DIR>          .\n",
      "2021-07-21  오후 05:32    <DIR>          ..\n",
      "2021-07-22  오전 09:40    <DIR>          .ipynb_checkpoints\n",
      "2021-07-22  오후 02:33               422 arrays_compressed.npz\n",
      "2021-07-22  오후 02:30               570 array_archive.npz\n",
      "2021-07-22  오전 09:42           375,435 np+pd (1day).ipynb\n",
      "2021-07-22  오후 02:33           139,071 np+pd (2day).ipynb\n",
      "2021-07-21  오후 05:32           182,704 psj.png\n",
      "2021-07-22  오후 02:29               168 some_array.npy\n",
      "               6개 파일             698,370 바이트\n",
      "               3개 디렉터리   5,095,817,216 바이트 남음\n"
     ]
    }
   ],
   "source": [
    "!dir"
   ]
  },
  {
   "cell_type": "code",
   "execution_count": 285,
   "id": "8fcbda16",
   "metadata": {},
   "outputs": [
    {
     "name": "stdout",
     "output_type": "stream",
     "text": [
      "C:\\Users\\sweet\\Desktop\\코딩\\numpy+pandas\\array_archive.npz\n"
     ]
    },
    {
     "name": "stderr",
     "output_type": "stream",
     "text": [
      "다른 프로세스가 파일을 사용 중이기 때문에 프로세스가 액세스 할 수 없습니다.\n"
     ]
    }
   ],
   "source": [
    "!del some_array.npy\n",
    "!del arrays_compressed.npz\n",
    "!del array_archive.npz"
   ]
  },
  {
   "cell_type": "markdown",
   "id": "7db810f1",
   "metadata": {},
   "source": [
    "## 5. 선형대수"
   ]
  },
  {
   "cell_type": "code",
   "execution_count": 286,
   "id": "1a75a7e7",
   "metadata": {},
   "outputs": [],
   "source": [
    "x = np.array([[1, 2, 3], [4, 5, 6]]) # 2 x 3\n",
    "y = np.array([[6, 23], [-1, 7], [8, 9]]) # 3 x 2 "
   ]
  },
  {
   "cell_type": "code",
   "execution_count": 287,
   "id": "1e6b3bcf",
   "metadata": {},
   "outputs": [
    {
     "data": {
      "text/plain": [
       "array([[1, 2, 3],\n",
       "       [4, 5, 6]])"
      ]
     },
     "execution_count": 287,
     "metadata": {},
     "output_type": "execute_result"
    }
   ],
   "source": [
    "x"
   ]
  },
  {
   "cell_type": "code",
   "execution_count": 288,
   "id": "ca6b7cb7",
   "metadata": {},
   "outputs": [
    {
     "data": {
      "text/plain": [
       "array([[ 6, 23],\n",
       "       [-1,  7],\n",
       "       [ 8,  9]])"
      ]
     },
     "execution_count": 288,
     "metadata": {},
     "output_type": "execute_result"
    }
   ],
   "source": [
    "y"
   ]
  },
  {
   "cell_type": "code",
   "execution_count": 290,
   "id": "f6edff18",
   "metadata": {},
   "outputs": [
    {
     "ename": "ValueError",
     "evalue": "operands could not be broadcast together with shapes (2,3) (3,2) ",
     "output_type": "error",
     "traceback": [
      "\u001b[1;31m---------------------------------------------------------------------------\u001b[0m",
      "\u001b[1;31mValueError\u001b[0m                                Traceback (most recent call last)",
      "\u001b[1;32m<ipython-input-290-945aebe235b9>\u001b[0m in \u001b[0;36m<module>\u001b[1;34m\u001b[0m\n\u001b[1;32m----> 1\u001b[1;33m \u001b[0mx\u001b[0m \u001b[1;33m*\u001b[0m \u001b[0my\u001b[0m \u001b[1;31m#형태가 달라서 안됌\u001b[0m\u001b[1;33m\u001b[0m\u001b[1;33m\u001b[0m\u001b[0m\n\u001b[0m",
      "\u001b[1;31mValueError\u001b[0m: operands could not be broadcast together with shapes (2,3) (3,2) "
     ]
    }
   ],
   "source": [
    "x * y #형태가 달라서 안됌"
   ]
  },
  {
   "cell_type": "markdown",
   "id": "80daf3c8",
   "metadata": {},
   "source": [
    " * +, -, *, / 사칙연산은 개별원소끼리 연산하므로 형태가 같아야함."
   ]
  },
  {
   "cell_type": "markdown",
   "id": "de204a07",
   "metadata": {},
   "source": [
    "* 행렬 곱셈은 결국의 요소 개수가 같으면 된다."
   ]
  },
  {
   "cell_type": "code",
   "execution_count": 293,
   "id": "b1ad8723",
   "metadata": {},
   "outputs": [
    {
     "data": {
      "text/plain": [
       "array([[ 28,  64],\n",
       "       [ 67, 181]])"
      ]
     },
     "execution_count": 293,
     "metadata": {},
     "output_type": "execute_result"
    }
   ],
   "source": [
    "x.dot(y) #행렬연산이 되었다. dot은 더하기. # (2 x 3) (3 x 2) = (2 x 2) 두 리스트에서 두개로 나뉘니까 2개\n",
    "                                                                        # 세 리스트를 열로만 생각해서 2개"
   ]
  },
  {
   "cell_type": "code",
   "execution_count": 294,
   "id": "99dc3a46",
   "metadata": {},
   "outputs": [
    {
     "data": {
      "text/plain": [
       "array([[ 28,  64],\n",
       "       [ 67, 181]])"
      ]
     },
     "execution_count": 294,
     "metadata": {},
     "output_type": "execute_result"
    }
   ],
   "source": [
    "np.dot(x, y) #이거는 np의 것"
   ]
  },
  {
   "cell_type": "code",
   "execution_count": 295,
   "id": "592fb170",
   "metadata": {},
   "outputs": [
    {
     "data": {
      "text/plain": [
       "array([[1, 2, 3],\n",
       "       [4, 5, 6]])"
      ]
     },
     "execution_count": 295,
     "metadata": {},
     "output_type": "execute_result"
    }
   ],
   "source": [
    "x # 2 x 3"
   ]
  },
  {
   "cell_type": "code",
   "execution_count": 298,
   "id": "39383170",
   "metadata": {},
   "outputs": [
    {
     "data": {
      "text/plain": [
       "(3,)"
      ]
     },
     "execution_count": 298,
     "metadata": {},
     "output_type": "execute_result"
    }
   ],
   "source": [
    "np.ones(3) #3"
   ]
  },
  {
   "cell_type": "code",
   "execution_count": 300,
   "id": "45b77a7b",
   "metadata": {},
   "outputs": [
    {
     "data": {
      "text/plain": [
       "array([ 6., 15.])"
      ]
     },
     "execution_count": 300,
     "metadata": {},
     "output_type": "execute_result"
    }
   ],
   "source": [
    "np.dot(x, np.ones(3)) #(2, ) 1+2+3, 4+5+6"
   ]
  },
  {
   "cell_type": "code",
   "execution_count": 301,
   "id": "600e6e6b",
   "metadata": {},
   "outputs": [
    {
     "data": {
      "text/plain": [
       "array([ 6., 15.])"
      ]
     },
     "execution_count": 301,
     "metadata": {},
     "output_type": "execute_result"
    }
   ],
   "source": [
    "x @ np.ones(3) #@도 행렬연산이다."
   ]
  },
  {
   "cell_type": "code",
   "execution_count": null,
   "id": "d8d31970",
   "metadata": {},
   "outputs": [],
   "source": [
    "# 단위행렬은 대각선은 1로 되어있고 나머지는 0에 가깝다. 이때 a에 곲한 값을 a^-1a의 역행렬이라고 함.\n",
    "역행렬 구하는 공식은 \n",
    "ab             1     d -b 이런식임\n",
    "cd 가 있으면 ad-bc  -c a   하지만 ad-bc가 0이면 역행렬이 항상 존재하는 것이 아니다. 이거는 2차원에서'만'쓰인다 n차원 같은경우 nv쓰자"
   ]
  },
  {
   "cell_type": "code",
   "execution_count": null,
   "id": "dafa17b8",
   "metadata": {},
   "outputs": [],
   "source": [
    "ad-bc 는 행렬식이라고 한다(determinant)"
   ]
  },
  {
   "cell_type": "code",
   "execution_count": null,
   "id": "1c1ab59f",
   "metadata": {},
   "outputs": [],
   "source": [
    "# a와 단위연산을 할 수 있는것을 a의 역행렬이라고 한다. A^-1이런식으로 표현"
   ]
  },
  {
   "cell_type": "code",
   "execution_count": 302,
   "id": "4b8258cf",
   "metadata": {},
   "outputs": [],
   "source": [
    "from numpy.linalg import inv, qr"
   ]
  },
  {
   "cell_type": "code",
   "execution_count": 303,
   "id": "fcd9ad37",
   "metadata": {},
   "outputs": [
    {
     "data": {
      "text/plain": [
       "array([[-0.09474526,  0.73623626,  0.12322414,  0.77654794, -0.3732248 ],\n",
       "       [ 1.39741384, -0.13333031, -0.99105346, -0.22229945,  0.39392591],\n",
       "       [ 0.38424486, -0.25646664,  0.86302745,  1.48121003,  0.33688823],\n",
       "       [-0.18271054,  1.00496533, -0.60940534, -0.12733932,  0.26608512],\n",
       "       [ 1.67832351, -0.8508936 ,  0.6459975 ,  1.25956049,  0.73529672]])"
      ]
     },
     "execution_count": 303,
     "metadata": {},
     "output_type": "execute_result"
    }
   ],
   "source": [
    "x = np.random.randn(5, 5)\n",
    "x # (5, 5)"
   ]
  },
  {
   "cell_type": "code",
   "execution_count": 304,
   "id": "6aad08f2",
   "metadata": {},
   "outputs": [
    {
     "data": {
      "text/plain": [
       "array([[-0.09474526,  1.39741384,  0.38424486, -0.18271054,  1.67832351],\n",
       "       [ 0.73623626, -0.13333031, -0.25646664,  1.00496533, -0.8508936 ],\n",
       "       [ 0.12322414, -0.99105346,  0.86302745, -0.60940534,  0.6459975 ],\n",
       "       [ 0.77654794, -0.22229945,  1.48121003, -0.12733932,  1.25956049],\n",
       "       [-0.3732248 ,  0.39392591,  0.33688823,  0.26608512,  0.73529672]])"
      ]
     },
     "execution_count": 304,
     "metadata": {},
     "output_type": "execute_result"
    }
   ],
   "source": [
    "x.T # (5, 5)"
   ]
  },
  {
   "cell_type": "code",
   "execution_count": 307,
   "id": "96adb3c3",
   "metadata": {},
   "outputs": [
    {
     "data": {
      "text/plain": [
       "array([[ 4.95953914, -1.96631098,  0.13056471,  2.32214499,  1.90073559],\n",
       "       [-1.96631098,  2.35957118, -1.16058458, -0.9782425 , -0.77195744],\n",
       "       [ 0.13056471, -1.16058458,  2.53087516,  2.48559919,  0.167198  ],\n",
       "       [ 2.32214499, -0.9782425 ,  2.48559919,  4.44913483,  1.01387336],\n",
       "       [ 1.90073559, -0.77195744,  0.167198  ,  1.01387336,  1.01943061]])"
      ]
     },
     "execution_count": 307,
     "metadata": {},
     "output_type": "execute_result"
    }
   ],
   "source": [
    "mat = x.T.dot(x)\n",
    "mat # (5, 5) x.T의 뒷부분 날리고 x의 앞부분 날리면"
   ]
  },
  {
   "cell_type": "code",
   "execution_count": 308,
   "id": "d421faac",
   "metadata": {},
   "outputs": [
    {
     "data": {
      "text/plain": [
       "array([[  7.07980162,   7.33569111,  10.51743375,  -7.52907559,\n",
       "         -1.88237852],\n",
       "       [  7.33569111,   8.69301825,  11.93399663,  -8.43300494,\n",
       "         -0.66498923],\n",
       "       [ 10.51743375,  11.93399663,  17.67146453, -12.50142182,\n",
       "         -1.0379305 ],\n",
       "       [ -7.52907559,  -8.43300494, -12.50142182,   9.14629066,\n",
       "          0.6061161 ],\n",
       "       [ -1.88237852,  -0.66498923,  -1.0379305 ,   0.6061161 ,\n",
       "          3.55450912]])"
      ]
     },
     "execution_count": 308,
     "metadata": {},
     "output_type": "execute_result"
    }
   ],
   "source": [
    "inv(mat)"
   ]
  },
  {
   "cell_type": "code",
   "execution_count": 310,
   "id": "f6d83005",
   "metadata": {},
   "outputs": [
    {
     "data": {
      "text/plain": [
       "array([[ 1.00000000e+00, -3.21081706e-15,  9.65368167e-15,\n",
       "        -2.98896226e-15,  1.46474529e-17],\n",
       "       [ 2.56929833e-15,  1.00000000e+00, -2.66774076e-17,\n",
       "         5.51755551e-16, -6.51422480e-16],\n",
       "       [ 2.82004120e-16, -1.60130045e-15,  1.00000000e+00,\n",
       "         2.65493472e-15,  1.46679525e-16],\n",
       "       [-3.28500794e-15, -3.66138901e-15,  6.52497514e-15,\n",
       "         1.00000000e+00,  9.86967152e-16],\n",
       "       [-3.50504711e-15, -4.78799433e-15, -3.12745880e-17,\n",
       "         2.15860062e-15,  1.00000000e+00]])"
      ]
     },
     "execution_count": 310,
     "metadata": {},
     "output_type": "execute_result"
    }
   ],
   "source": [
    "mat.dot(inv(mat))"
   ]
  },
  {
   "cell_type": "code",
   "execution_count": 314,
   "id": "0612318d",
   "metadata": {},
   "outputs": [
    {
     "data": {
      "text/plain": [
       "array([[-6.12254912,  2.98602526, -1.52710493, -4.25043071, -2.49218745],\n",
       "       [ 0.        , -1.84863231,  2.12758484,  1.19123012,  0.04868982],\n",
       "       [ 0.        ,  0.        , -2.66773774, -3.72309887, -0.1305804 ],\n",
       "       [ 0.        ,  0.        ,  0.        , -0.06002817,  0.13442691],\n",
       "       [ 0.        ,  0.        ,  0.        ,  0.        ,  0.23527933]])"
      ]
     },
     "execution_count": 314,
     "metadata": {},
     "output_type": "execute_result"
    }
   ],
   "source": [
    "q, r = qr(mat) # q는 직교행렬 r은 상삼각행렬( 대각선아래가 0인 행렬) qr은 행렬을 분해해준다. 하삼각행렬은 대각선 위가 0\n",
    "r # 보다시피 대각선 아래가 0이다."
   ]
  },
  {
   "cell_type": "markdown",
   "id": "c11c8336",
   "metadata": {},
   "source": [
    "## 6. 난수 생성"
   ]
  },
  {
   "cell_type": "code",
   "execution_count": 315,
   "id": "c1fd0544",
   "metadata": {},
   "outputs": [
    {
     "data": {
      "text/plain": [
       "array([[ 0.72040096,  2.1229005 ,  0.73831368,  0.80007447],\n",
       "       [-0.8341305 ,  0.34303225,  0.13363205,  0.33941438],\n",
       "       [-0.13094071,  1.48683863,  1.16036899, -2.26971759],\n",
       "       [-1.28998472, -0.42159682,  0.07373947,  0.13113313]])"
      ]
     },
     "execution_count": 315,
     "metadata": {},
     "output_type": "execute_result"
    }
   ],
   "source": [
    "samples = np.random.normal(size=(4, 4)) #정규 분포를 따르므로 종 모양의 모습을 띈다.\n",
    "samples"
   ]
  },
  {
   "cell_type": "code",
   "execution_count": 316,
   "id": "6da300da",
   "metadata": {},
   "outputs": [],
   "source": [
    "from random import normalvariate"
   ]
  },
  {
   "cell_type": "code",
   "execution_count": 317,
   "id": "2705d6af",
   "metadata": {},
   "outputs": [],
   "source": [
    "n = 1000000"
   ]
  },
  {
   "cell_type": "code",
   "execution_count": 318,
   "id": "77e81ea3",
   "metadata": {},
   "outputs": [
    {
     "name": "stdout",
     "output_type": "stream",
     "text": [
      "880 ms ± 8.85 ms per loop (mean ± std. dev. of 7 runs, 1 loop each)\n"
     ]
    }
   ],
   "source": [
    "%timeit samples = [normalvariate(0, 1) for _ in range(n)]     #7번돌려서 나온 평균측정 표준편차는 1이다 0은 찾아보자!"
   ]
  },
  {
   "cell_type": "code",
   "execution_count": 319,
   "id": "a5607e15",
   "metadata": {},
   "outputs": [
    {
     "name": "stdout",
     "output_type": "stream",
     "text": [
      "27.1 ms ± 378 µs per loop (mean ± std. dev. of 7 runs, 10 loops each)\n"
     ]
    }
   ],
   "source": [
    "%timeit np.random.normal(size=n) #속도가 30배가까이 차이난다."
   ]
  },
  {
   "cell_type": "code",
   "execution_count": 320,
   "id": "dff5609c",
   "metadata": {},
   "outputs": [],
   "source": [
    "## np.random.seed(1234) #동일한 시드를 설정하여 동일한 난수값을 생성하고 싶을때"
   ]
  },
  {
   "cell_type": "code",
   "execution_count": 333,
   "id": "9c407a17",
   "metadata": {},
   "outputs": [],
   "source": [
    "import numpy as np"
   ]
  },
  {
   "cell_type": "code",
   "execution_count": 360,
   "id": "01eaf734",
   "metadata": {},
   "outputs": [
    {
     "ename": "TypeError",
     "evalue": "'type' object cannot be interpreted as an integer",
     "output_type": "error",
     "traceback": [
      "\u001b[1;31m---------------------------------------------------------------------------\u001b[0m",
      "\u001b[1;31mTypeError\u001b[0m                                 Traceback (most recent call last)",
      "\u001b[1;32m<ipython-input-360-cd8d4f5bd67f>\u001b[0m in \u001b[0;36m<module>\u001b[1;34m\u001b[0m\n\u001b[1;32m----> 1\u001b[1;33m \u001b[0mlotto\u001b[0m \u001b[1;33m=\u001b[0m \u001b[1;33m[\u001b[0m\u001b[0mnp\u001b[0m\u001b[1;33m.\u001b[0m\u001b[0mrandom\u001b[0m\u001b[1;33m.\u001b[0m\u001b[0mpermutation\u001b[0m\u001b[1;33m(\u001b[0m\u001b[0mnp\u001b[0m\u001b[1;33m.\u001b[0m\u001b[0mrandom\u001b[0m\u001b[1;33m.\u001b[0m\u001b[0mrandn\u001b[0m\u001b[1;33m(\u001b[0m\u001b[1;36m1\u001b[0m\u001b[1;33m,\u001b[0m \u001b[1;36m46\u001b[0m\u001b[1;33m,\u001b[0m \u001b[1;36m6\u001b[0m\u001b[1;33m,\u001b[0m \u001b[0mnp\u001b[0m\u001b[1;33m.\u001b[0m\u001b[0mint32\u001b[0m\u001b[1;33m)\u001b[0m\u001b[1;33m)\u001b[0m \u001b[1;32mfor\u001b[0m \u001b[0mi\u001b[0m \u001b[1;32min\u001b[0m \u001b[0mrange\u001b[0m\u001b[1;33m(\u001b[0m\u001b[1;36m10\u001b[0m\u001b[1;33m)\u001b[0m\u001b[1;33m]\u001b[0m \u001b[1;31m#randint가 중요한듯!  randn은 실수로 나와서문제임\u001b[0m\u001b[1;33m\u001b[0m\u001b[1;33m\u001b[0m\u001b[0m\n\u001b[0m",
      "\u001b[1;32m<ipython-input-360-cd8d4f5bd67f>\u001b[0m in \u001b[0;36m<listcomp>\u001b[1;34m(.0)\u001b[0m\n\u001b[1;32m----> 1\u001b[1;33m \u001b[0mlotto\u001b[0m \u001b[1;33m=\u001b[0m \u001b[1;33m[\u001b[0m\u001b[0mnp\u001b[0m\u001b[1;33m.\u001b[0m\u001b[0mrandom\u001b[0m\u001b[1;33m.\u001b[0m\u001b[0mpermutation\u001b[0m\u001b[1;33m(\u001b[0m\u001b[0mnp\u001b[0m\u001b[1;33m.\u001b[0m\u001b[0mrandom\u001b[0m\u001b[1;33m.\u001b[0m\u001b[0mrandn\u001b[0m\u001b[1;33m(\u001b[0m\u001b[1;36m1\u001b[0m\u001b[1;33m,\u001b[0m \u001b[1;36m46\u001b[0m\u001b[1;33m,\u001b[0m \u001b[1;36m6\u001b[0m\u001b[1;33m,\u001b[0m \u001b[0mnp\u001b[0m\u001b[1;33m.\u001b[0m\u001b[0mint32\u001b[0m\u001b[1;33m)\u001b[0m\u001b[1;33m)\u001b[0m \u001b[1;32mfor\u001b[0m \u001b[0mi\u001b[0m \u001b[1;32min\u001b[0m \u001b[0mrange\u001b[0m\u001b[1;33m(\u001b[0m\u001b[1;36m10\u001b[0m\u001b[1;33m)\u001b[0m\u001b[1;33m]\u001b[0m \u001b[1;31m#randint가 중요한듯!  randn은 실수로 나와서문제임\u001b[0m\u001b[1;33m\u001b[0m\u001b[1;33m\u001b[0m\u001b[0m\n\u001b[0m",
      "\u001b[1;32mmtrand.pyx\u001b[0m in \u001b[0;36mnumpy.random.mtrand.RandomState.randn\u001b[1;34m()\u001b[0m\n",
      "\u001b[1;32mmtrand.pyx\u001b[0m in \u001b[0;36mnumpy.random.mtrand.RandomState.standard_normal\u001b[1;34m()\u001b[0m\n",
      "\u001b[1;32m_common.pyx\u001b[0m in \u001b[0;36mnumpy.random._common.cont\u001b[1;34m()\u001b[0m\n",
      "\u001b[1;31mTypeError\u001b[0m: 'type' object cannot be interpreted as an integer"
     ]
    }
   ],
   "source": [
    "lotto = [np.random.permutation(np.random.randint(1, 46, 6)) for i in range(10)] #randint가 중요한듯!  randn은 실수로 나와서문제임"
   ]
  },
  {
   "cell_type": "code",
   "execution_count": 357,
   "id": "69701c31",
   "metadata": {},
   "outputs": [
    {
     "data": {
      "text/plain": [
       "[array([30, 35, 30, 12, 25, 10]),\n",
       " array([24, 12,  9, 16, 28, 28]),\n",
       " array([20, 16, 27, 35, 29, 32]),\n",
       " array([12, 14, 17, 30, 18, 27]),\n",
       " array([23, 35, 30, 45, 27, 29]),\n",
       " array([38, 14, 14,  8, 44, 39]),\n",
       " array([36, 15, 39, 22, 22,  6]),\n",
       " array([28, 19, 34, 19, 43, 15]),\n",
       " array([24, 23, 45, 33, 23, 45]),\n",
       " array([12,  4, 42, 21, 13, 33])]"
      ]
     },
     "execution_count": 357,
     "metadata": {},
     "output_type": "execute_result"
    }
   ],
   "source": [
    "lotto"
   ]
  },
  {
   "cell_type": "markdown",
   "id": "c673ab43",
   "metadata": {},
   "source": [
    " ## (실습 계단) 오르내리기"
   ]
  },
  {
   "cell_type": "code",
   "execution_count": 367,
   "id": "fc89dfba",
   "metadata": {},
   "outputs": [],
   "source": [
    "import random\n",
    "import numpy as np\n",
    "import matplotlib.pyplot as plt"
   ]
  },
  {
   "cell_type": "code",
   "execution_count": 393,
   "id": "5b244447",
   "metadata": {},
   "outputs": [],
   "source": [
    "position = sum([1 if random.randint(0, 1) else -1 for i in range(1000)])\n",
    "walk = [1 if random.randint(0, 1) else -1 for i in range(1000)]"
   ]
  },
  {
   "cell_type": "code",
   "execution_count": 392,
   "id": "7de0ec79",
   "metadata": {},
   "outputs": [
    {
     "data": {
      "text/plain": [
       "[<matplotlib.lines.Line2D at 0x1fa517b3850>]"
      ]
     },
     "execution_count": 392,
     "metadata": {},
     "output_type": "execute_result"
    },
    {
     "data": {
      "image/png": "[encoded data removed]",
      "text/plain": [
       "<Figure size 432x288 with 1 Axes>"
      ]
     },
     "metadata": {
      "needs_background": "light"
     },
     "output_type": "display_data"
    }
   ],
   "source": [
    "plt.plot(position)"
   ]
  },
  {
   "cell_type": "code",
   "execution_count": 425,
   "id": "67c9da45",
   "metadata": {},
   "outputs": [
    {
     "data": {
      "text/plain": [
       "-38"
      ]
     },
     "execution_count": 425,
     "metadata": {},
     "output_type": "execute_result"
    }
   ],
   "source": [
    "steps = 1000\n",
    "position = 0\n",
    "\n",
    "walk = np.random.randint(0, 2, 1000)\n",
    "sum(walk > 0) - sum(~(walk > 0))"
   ]
  },
  {
   "cell_type": "code",
   "execution_count": 413,
   "id": "3a62279d",
   "metadata": {},
   "outputs": [
    {
     "data": {
      "text/plain": [
       "6"
      ]
     },
     "execution_count": 413,
     "metadata": {},
     "output_type": "execute_result"
    }
   ],
   "source": [
    "sum(walk > 0) - sum(walk < 1)"
   ]
  },
  {
   "cell_type": "code",
   "execution_count": 419,
   "id": "ee83cc17",
   "metadata": {},
   "outputs": [
    {
     "data": {
      "text/plain": [
       "500"
      ]
     },
     "execution_count": 419,
     "metadata": {},
     "output_type": "execute_result"
    }
   ],
   "source": [
    "sum(~walk > 0)"
   ]
  },
  {
   "cell_type": "code",
   "execution_count": 448,
   "id": "32d86f81",
   "metadata": {},
   "outputs": [
    {
     "ename": "SyntaxError",
     "evalue": "unmatched ')' (<ipython-input-448-498498bd60b0>, line 3)",
     "output_type": "error",
     "traceback": [
      "\u001b[1;36m  File \u001b[1;32m\"<ipython-input-448-498498bd60b0>\"\u001b[1;36m, line \u001b[1;32m3\u001b[0m\n\u001b[1;33m    steps.cumsum(((np.random.randint(0, 2, 1000)) > 0 - (np.random.randint(0, 2, 1000)) < 1)))\u001b[0m\n\u001b[1;37m                                                                                             ^\u001b[0m\n\u001b[1;31mSyntaxError\u001b[0m\u001b[1;31m:\u001b[0m unmatched ')'\n"
     ]
    }
   ],
   "source": [
    "position = sum(np.random.randint(0, 2, 1000) > 0) - sum(np.random.randint(0, 2, 1000) < 1)\n",
    "steps = np.zeros(1000)\n",
    "steps.cumsum(((np.random.randint(0, 2, 1000)) > 0 - (np.random.randint(0, 2, 1000)) < 1))"
   ]
  },
  {
   "cell_type": "code",
   "execution_count": 441,
   "id": "0c1a87b4",
   "metadata": {},
   "outputs": [
    {
     "data": {
      "text/plain": [
       "array([5], dtype=int32)"
      ]
     },
     "execution_count": 441,
     "metadata": {},
     "output_type": "execute_result"
    }
   ],
   "source": [
    "position\n",
    "steps"
   ]
  },
  {
   "cell_type": "code",
   "execution_count": 459,
   "id": "2ab7cb90",
   "metadata": {},
   "outputs": [],
   "source": [
    "a = np.random.randint(-1, 2, (5,0,5))"
   ]
  },
  {
   "cell_type": "code",
   "execution_count": 568,
   "id": "9dab0b9e",
   "metadata": {},
   "outputs": [
    {
     "data": {
      "text/plain": [
       "array([-1, -1,  1,  1,  1, -1, -1, -1,  1,  1,  1,  1,  1, -1,  1,  1, -1,\n",
       "        1,  1,  1, -1,  1,  1, -1, -1,  1, -1,  1,  1, -1, -1,  1,  1, -1,\n",
       "       -1, -1, -1,  1,  1, -1, -1, -1, -1, -1,  1,  1,  1, -1, -1,  1,  1,\n",
       "        1,  1, -1, -1, -1, -1, -1,  1, -1, -1,  1,  1, -1,  1, -1,  1,  1,\n",
       "       -1,  1,  1,  1, -1, -1, -1,  1, -1, -1, -1, -1, -1,  1, -1, -1,  1,\n",
       "       -1,  1, -1,  1, -1, -1,  1, -1, -1,  1, -1,  1,  1, -1,  1,  1,  1,\n",
       "        1, -1, -1, -1,  1, -1, -1, -1,  1, -1,  1, -1, -1, -1,  1,  1, -1,\n",
       "       -1,  1,  1, -1, -1, -1, -1, -1,  1,  1, -1, -1, -1,  1, -1,  1,  1,\n",
       "       -1,  1,  1,  1,  1, -1,  1,  1,  1, -1,  1,  1, -1,  1, -1,  1,  1,\n",
       "       -1, -1,  1,  1,  1,  1, -1,  1,  1, -1, -1, -1, -1,  1,  1,  1, -1,\n",
       "        1, -1, -1, -1, -1,  1, -1,  1,  1, -1, -1, -1,  1, -1,  1,  1, -1,\n",
       "       -1, -1, -1, -1, -1, -1, -1,  1, -1,  1, -1, -1,  1,  1, -1,  1, -1,\n",
       "       -1, -1,  1,  1,  1, -1, -1, -1,  1, -1, -1,  1, -1,  1,  1, -1,  1,\n",
       "        1, -1, -1, -1, -1,  1,  1,  1,  1,  1, -1, -1, -1,  1,  1, -1,  1,\n",
       "       -1,  1,  1,  1, -1,  1, -1, -1,  1, -1, -1,  1,  1,  1,  1,  1, -1,\n",
       "       -1,  1, -1,  1, -1,  1,  1,  1, -1,  1,  1,  1, -1,  1,  1, -1, -1,\n",
       "       -1, -1, -1, -1, -1, -1, -1, -1, -1,  1, -1, -1,  1, -1, -1, -1,  1,\n",
       "       -1,  1, -1,  1,  1,  1,  1, -1, -1,  1,  1, -1, -1,  1, -1,  1, -1,\n",
       "        1, -1,  1, -1, -1,  1,  1,  1,  1,  1,  1,  1,  1, -1,  1, -1, -1,\n",
       "        1, -1,  1,  1,  1, -1, -1,  1, -1, -1, -1,  1, -1, -1, -1,  1,  1,\n",
       "       -1, -1,  1, -1,  1, -1, -1, -1, -1, -1, -1, -1, -1,  1,  1,  1,  1,\n",
       "       -1,  1, -1,  1,  1,  1, -1,  1,  1,  1,  1, -1,  1, -1,  1,  1, -1,\n",
       "        1,  1, -1,  1,  1,  1, -1,  1,  1,  1, -1, -1,  1, -1, -1,  1, -1,\n",
       "       -1,  1,  1, -1,  1, -1,  1,  1, -1,  1, -1, -1, -1,  1,  1, -1,  1,\n",
       "        1,  1, -1,  1, -1,  1,  1, -1,  1,  1,  1,  1,  1,  1,  1,  1,  1,\n",
       "       -1, -1,  1, -1, -1, -1,  1,  1, -1,  1, -1, -1,  1,  1,  1, -1, -1,\n",
       "       -1, -1, -1, -1, -1,  1,  1, -1,  1,  1,  1,  1, -1,  1, -1,  1,  1,\n",
       "       -1,  1, -1,  1, -1,  1, -1,  1, -1,  1, -1, -1, -1, -1,  1, -1,  1,\n",
       "        1,  1,  1, -1,  1, -1, -1, -1, -1, -1,  1, -1, -1,  1,  1, -1,  1,\n",
       "        1,  1,  1, -1, -1,  1, -1, -1, -1,  1,  1,  1, -1,  1,  1,  1,  1,\n",
       "       -1,  1, -1,  1,  1, -1,  1, -1, -1, -1,  1, -1, -1,  1, -1, -1, -1,\n",
       "        1, -1, -1,  1,  1, -1, -1,  1, -1,  1, -1,  1, -1,  1,  1, -1,  1,\n",
       "        1,  1, -1, -1,  1,  1, -1,  1, -1, -1, -1, -1, -1, -1, -1,  1, -1,\n",
       "        1, -1,  1, -1,  1, -1,  1, -1, -1, -1, -1, -1,  1, -1,  1, -1,  1,\n",
       "       -1, -1, -1, -1,  1,  1,  1,  1, -1, -1,  1, -1, -1,  1,  1,  1,  1,\n",
       "        1, -1,  1,  1,  1, -1, -1, -1, -1, -1, -1, -1,  1,  1, -1,  1,  1,\n",
       "       -1,  1,  1, -1,  1, -1,  1, -1,  1,  1,  1, -1,  1, -1, -1, -1, -1,\n",
       "       -1, -1, -1, -1, -1, -1, -1, -1,  1,  1, -1, -1,  1,  1,  1, -1,  1,\n",
       "       -1,  1,  1,  1, -1,  1, -1, -1,  1, -1,  1, -1, -1,  1, -1,  1, -1,\n",
       "       -1, -1, -1,  1, -1,  1, -1,  1, -1, -1,  1, -1, -1, -1, -1,  1,  1,\n",
       "        1, -1,  1, -1,  1, -1, -1, -1, -1,  1,  1,  1,  1,  1,  1,  1,  1,\n",
       "        1,  1, -1, -1,  1, -1,  1,  1,  1,  1,  1, -1,  1,  1, -1,  1,  1,\n",
       "        1,  1,  1,  1,  1,  1,  1, -1, -1, -1,  1,  1, -1,  1,  1, -1,  1,\n",
       "        1, -1,  1, -1,  1,  1, -1, -1,  1, -1, -1,  1, -1, -1, -1,  1, -1,\n",
       "       -1, -1, -1,  1,  1,  1, -1,  1, -1,  1,  1,  1, -1,  1, -1, -1,  1,\n",
       "        1, -1, -1, -1,  1, -1, -1,  1, -1,  1, -1, -1, -1,  1, -1,  1,  1,\n",
       "       -1,  1,  1,  1,  1,  1,  1,  1,  1, -1, -1,  1, -1,  1, -1, -1,  1,\n",
       "        1,  1,  1,  1, -1,  1, -1, -1,  1,  1,  1, -1,  1, -1, -1, -1,  1,\n",
       "        1,  1,  1,  1, -1,  1, -1,  1,  1,  1,  1, -1, -1, -1,  1, -1, -1,\n",
       "        1,  1, -1, -1, -1,  1,  1, -1,  1,  1,  1, -1, -1, -1,  1,  1, -1,\n",
       "       -1, -1,  1,  1, -1,  1,  1, -1, -1, -1, -1,  1, -1, -1, -1, -1, -1,\n",
       "       -1, -1,  1,  1,  1, -1,  1, -1,  1,  1,  1, -1,  1, -1, -1,  1, -1,\n",
       "        1, -1,  1,  1,  1, -1,  1, -1, -1,  1, -1, -1, -1, -1,  1, -1, -1,\n",
       "        1, -1, -1,  1,  1, -1,  1, -1,  1,  1,  1,  1,  1,  1, -1, -1,  1,\n",
       "       -1,  1, -1,  1,  1,  1, -1,  1,  1,  1, -1,  1,  1, -1, -1, -1,  1,\n",
       "        1, -1,  1, -1,  1,  1,  1, -1, -1, -1,  1,  1,  1,  1, -1, -1,  1,\n",
       "       -1,  1, -1, -1, -1,  1, -1,  1, -1, -1,  1,  1, -1, -1,  1, -1, -1,\n",
       "        1,  1, -1,  1,  1,  1, -1, -1, -1,  1,  1, -1, -1,  1, -1, -1, -1,\n",
       "       -1, -1,  1,  1, -1,  1, -1,  1,  1, -1, -1, -1,  1, -1])"
      ]
     },
     "execution_count": 568,
     "metadata": {},
     "output_type": "execute_result"
    }
   ],
   "source": [
    "a = np.random.choice([-1,1], 1000, p =[0.5, 0.5])\n",
    "a"
   ]
  },
  {
   "cell_type": "code",
   "execution_count": 569,
   "id": "731617cd",
   "metadata": {},
   "outputs": [],
   "source": [
    "a = np.random.choice([-1,1], 1000, p =[0.5, 0.5])\n",
    "position = sum(a) #choice(원하는 요소의 리스트, 뽑을 개수, p = 확률)\n",
    "steps = np.cumsum(a)"
   ]
  },
  {
   "cell_type": "code",
   "execution_count": 570,
   "id": "5d10ca31",
   "metadata": {},
   "outputs": [
    {
     "data": {
      "text/plain": [
       "(-2,\n",
       " array([ -1,  -2,  -1,   0,   1,   0,  -1,  -2,  -1,   0,   1,   2,   3,\n",
       "          2,   3,   4,   3,   4,   5,   6,   5,   6,   7,   6,   5,   6,\n",
       "          5,   6,   7,   6,   5,   6,   7,   6,   5,   4,   3,   4,   5,\n",
       "          4,   3,   2,   1,   0,   1,   2,   3,   2,   1,   2,   3,   4,\n",
       "          5,   4,   3,   2,   1,   0,   1,   0,  -1,   0,   1,   0,   1,\n",
       "          0,   1,   2,   1,   2,   3,   4,   3,   2,   1,   2,   1,   0,\n",
       "         -1,  -2,  -3,  -2,  -3,  -4,  -3,  -4,  -3,  -4,  -3,  -4,  -5,\n",
       "         -4,  -5,  -6,  -5,  -6,  -5,  -4,  -5,  -4,  -3,  -2,  -1,  -2,\n",
       "         -3,  -4,  -3,  -4,  -5,  -6,  -5,  -6,  -5,  -6,  -7,  -8,  -7,\n",
       "         -6,  -7,  -8,  -7,  -6,  -7,  -8,  -9, -10, -11, -10,  -9, -10,\n",
       "        -11, -12, -11, -12, -11, -10, -11, -10,  -9,  -8,  -7,  -8,  -7,\n",
       "         -6,  -5,  -6,  -5,  -4,  -5,  -4,  -5,  -4,  -3,  -4,  -5,  -4,\n",
       "         -3,  -2,  -1,  -2,  -1,   0,  -1,  -2,  -3,  -4,  -3,  -2,  -1,\n",
       "         -2,  -1,  -2,  -3,  -4,  -5,  -4,  -5,  -4,  -3,  -4,  -5,  -6,\n",
       "         -5,  -6,  -5,  -4,  -5,  -6,  -7,  -8,  -9, -10, -11, -12, -11,\n",
       "        -12, -11, -12, -13, -12, -11, -12, -11, -12, -13, -14, -13, -12,\n",
       "        -11, -12, -13, -14, -13, -14, -15, -14, -15, -14, -13, -14, -13,\n",
       "        -12, -13, -14, -15, -16, -15, -14, -13, -12, -11, -12, -13, -14,\n",
       "        -13, -12, -13, -12, -13, -12, -11, -10, -11, -10, -11, -12, -11,\n",
       "        -12, -13, -12, -11, -10,  -9,  -8,  -9, -10,  -9, -10,  -9, -10,\n",
       "         -9,  -8,  -7,  -8,  -7,  -6,  -5,  -6,  -5,  -4,  -5,  -6,  -7,\n",
       "         -8,  -9, -10, -11, -12, -13, -14, -15, -14, -15, -16, -15, -16,\n",
       "        -17, -18, -17, -18, -17, -18, -17, -16, -15, -14, -15, -16, -15,\n",
       "        -14, -15, -16, -15, -16, -15, -16, -15, -16, -15, -16, -17, -16,\n",
       "        -15, -14, -13, -12, -11, -10,  -9, -10,  -9, -10, -11, -10, -11,\n",
       "        -10,  -9,  -8,  -9, -10,  -9, -10, -11, -12, -11, -12, -13, -14,\n",
       "        -13, -12, -13, -14, -13, -14, -13, -14, -15, -16, -17, -18, -19,\n",
       "        -20, -21, -20, -19, -18, -17, -18, -17, -18, -17, -16, -15, -16,\n",
       "        -15, -14, -13, -12, -13, -12, -13, -12, -11, -12, -11, -10, -11,\n",
       "        -10,  -9,  -8,  -9,  -8,  -7,  -6,  -7,  -8,  -7,  -8,  -9,  -8,\n",
       "         -9, -10,  -9,  -8,  -9,  -8,  -9,  -8,  -7,  -8,  -7,  -8,  -9,\n",
       "        -10,  -9,  -8,  -9,  -8,  -7,  -6,  -7,  -6,  -7,  -6,  -5,  -6,\n",
       "         -5,  -4,  -3,  -2,  -1,   0,   1,   2,   3,   2,   1,   2,   1,\n",
       "          0,  -1,   0,   1,   0,   1,   0,  -1,   0,   1,   2,   1,   0,\n",
       "         -1,  -2,  -3,  -4,  -5,  -4,  -3,  -4,  -3,  -2,  -1,   0,  -1,\n",
       "          0,  -1,   0,   1,   0,   1,   0,   1,   0,   1,   0,   1,   0,\n",
       "          1,   0,  -1,  -2,  -3,  -2,  -3,  -2,  -1,   0,   1,   0,   1,\n",
       "          0,  -1,  -2,  -3,  -4,  -3,  -4,  -5,  -4,  -3,  -4,  -3,  -2,\n",
       "         -1,   0,  -1,  -2,  -1,  -2,  -3,  -4,  -3,  -2,  -1,  -2,  -1,\n",
       "          0,   1,   2,   1,   2,   1,   2,   3,   2,   3,   2,   1,   0,\n",
       "          1,   0,  -1,   0,  -1,  -2,  -3,  -2,  -3,  -4,  -3,  -2,  -3,\n",
       "         -4,  -3,  -4,  -3,  -4,  -3,  -4,  -3,  -2,  -3,  -2,  -1,   0,\n",
       "         -1,  -2,  -1,   0,  -1,   0,  -1,  -2,  -3,  -4,  -5,  -6,  -7,\n",
       "         -6,  -7,  -6,  -7,  -6,  -7,  -6,  -7,  -6,  -7,  -8,  -9, -10,\n",
       "        -11, -10, -11, -10, -11, -10, -11, -12, -13, -14, -13, -12, -11,\n",
       "        -10, -11, -12, -11, -12, -13, -12, -11, -10,  -9,  -8,  -9,  -8,\n",
       "         -7,  -6,  -7,  -8,  -9, -10, -11, -12, -13, -12, -11, -12, -11,\n",
       "        -10, -11, -10,  -9, -10,  -9, -10,  -9, -10,  -9,  -8,  -7,  -8,\n",
       "         -7,  -8,  -9, -10, -11, -12, -13, -14, -15, -16, -17, -18, -19,\n",
       "        -18, -17, -18, -19, -18, -17, -16, -17, -16, -17, -16, -15, -14,\n",
       "        -15, -14, -15, -16, -15, -16, -15, -16, -17, -16, -17, -16, -17,\n",
       "        -18, -19, -20, -19, -20, -19, -20, -19, -20, -21, -20, -21, -22,\n",
       "        -23, -24, -23, -22, -21, -22, -21, -22, -21, -22, -23, -24, -25,\n",
       "        -24, -23, -22, -21, -20, -19, -18, -17, -16, -15, -16, -17, -16,\n",
       "        -17, -16, -15, -14, -13, -12, -13, -12, -11, -12, -11, -10,  -9,\n",
       "         -8,  -7,  -6,  -5,  -4,  -3,  -4,  -5,  -6,  -5,  -4,  -5,  -4,\n",
       "         -3,  -4,  -3,  -2,  -3,  -2,  -3,  -2,  -1,  -2,  -3,  -2,  -3,\n",
       "         -4,  -3,  -4,  -5,  -6,  -5,  -6,  -7,  -8,  -9,  -8,  -7,  -6,\n",
       "         -7,  -6,  -7,  -6,  -5,  -4,  -5,  -4,  -5,  -6,  -5,  -4,  -5,\n",
       "         -6,  -7,  -6,  -7,  -8,  -7,  -8,  -7,  -8,  -9, -10,  -9, -10,\n",
       "         -9,  -8,  -9,  -8,  -7,  -6,  -5,  -4,  -3,  -2,  -1,  -2,  -3,\n",
       "         -2,  -3,  -2,  -3,  -4,  -3,  -2,  -1,   0,   1,   0,   1,   0,\n",
       "         -1,   0,   1,   2,   1,   2,   1,   0,  -1,   0,   1,   2,   3,\n",
       "          4,   3,   4,   3,   4,   5,   6,   7,   6,   5,   4,   5,   4,\n",
       "          3,   4,   5,   4,   3,   2,   3,   4,   3,   4,   5,   6,   5,\n",
       "          4,   3,   4,   5,   4,   3,   2,   3,   4,   3,   4,   5,   4,\n",
       "          3,   2,   1,   2,   1,   0,  -1,  -2,  -3,  -4,  -5,  -4,  -3,\n",
       "         -2,  -3,  -2,  -3,  -2,  -1,   0,  -1,   0,  -1,  -2,  -1,  -2,\n",
       "         -1,  -2,  -1,   0,   1,   0,   1,   0,  -1,   0,  -1,  -2,  -3,\n",
       "         -4,  -3,  -4,  -5,  -4,  -5,  -6,  -5,  -4,  -5,  -4,  -5,  -4,\n",
       "         -3,  -2,  -1,   0,   1,   0,  -1,   0,  -1,   0,  -1,   0,   1,\n",
       "          2,   1,   2,   3,   4,   3,   4,   5,   4,   3,   2,   3,   4,\n",
       "          3,   4,   3,   4,   5,   6,   5,   4,   3,   4,   5,   6,   7,\n",
       "          6,   5,   6,   5,   6,   5,   4,   3,   4,   3,   4,   3,   2,\n",
       "          3,   4,   3,   2,   3,   2,   1,   2,   3,   2,   3,   4,   5,\n",
       "          4,   3,   2,   3,   4,   3,   2,   3,   2,   1,   0,  -1,  -2,\n",
       "         -1,   0,  -1,   0,  -1,   0,   1,   0,  -1,  -2,  -1,  -2],\n",
       "       dtype=int32))"
      ]
     },
     "execution_count": 570,
     "metadata": {},
     "output_type": "execute_result"
    }
   ],
   "source": [
    "position, steps"
   ]
  },
  {
   "cell_type": "code",
   "execution_count": 563,
   "id": "3d0f9396",
   "metadata": {},
   "outputs": [
    {
     "data": {
      "text/plain": [
       "[<matplotlib.lines.Line2D at 0x1fa5461f8e0>]"
      ]
     },
     "execution_count": 563,
     "metadata": {},
     "output_type": "execute_result"
    },
    {
     "data": {
      "image/png": "[encoded data removed]",
      "text/plain": [
       "<Figure size 432x288 with 1 Axes>"
      ]
     },
     "metadata": {
      "needs_background": "light"
     },
     "output_type": "display_data"
    }
   ],
   "source": [
    "plt.plot(steps)"
   ]
  },
  {
   "cell_type": "code",
   "execution_count": 556,
   "id": "09fd993c",
   "metadata": {},
   "outputs": [
    {
     "data": {
      "text/plain": [
       "1"
      ]
     },
     "execution_count": 556,
     "metadata": {},
     "output_type": "execute_result"
    }
   ],
   "source": [
    "walk.min()"
   ]
  },
  {
   "cell_type": "code",
   "execution_count": 557,
   "id": "7534666f",
   "metadata": {
    "scrolled": true
   },
   "outputs": [
    {
     "data": {
      "text/plain": [
       "45"
      ]
     },
     "execution_count": 557,
     "metadata": {},
     "output_type": "execute_result"
    }
   ],
   "source": [
    "walk.max()"
   ]
  },
  {
   "cell_type": "code",
   "execution_count": 559,
   "id": "2dd9e179",
   "metadata": {},
   "outputs": [
    {
     "data": {
      "text/plain": [
       "4"
      ]
     },
     "execution_count": 559,
     "metadata": {},
     "output_type": "execute_result"
    }
   ],
   "source": [
    "np.array([1, 3, 5, 6, 9]).argmax()"
   ]
  },
  {
   "cell_type": "code",
   "execution_count": 560,
   "id": "6b984f81",
   "metadata": {},
   "outputs": [
    {
     "data": {
      "text/plain": [
       "<function ndarray.argmax>"
      ]
     },
     "execution_count": 560,
     "metadata": {},
     "output_type": "execute_result"
    }
   ],
   "source": [
    "(np.abs(steps) >= 10).argmax"
   ]
  },
  {
   "cell_type": "code",
   "execution_count": 574,
   "id": "fee13da2",
   "metadata": {},
   "outputs": [
    {
     "data": {
      "text/plain": [
       "array([30, 50])"
      ]
     },
     "execution_count": 574,
     "metadata": {},
     "output_type": "execute_result"
    }
   ],
   "source": [
    "a2 = np.array([[10, 20, 30],[40 ,50 ,60]]) #일때\n",
    "#30과 50을 가져오고 싶다면 각각의 좌표인 (0,2) , (1,1)을 가져오면 된다 이는 \n",
    "a2[[0, 1],[2, 1]] #이런식으로 표현 가능"
   ]
  },
  {
   "cell_type": "code",
   "execution_count": null,
   "id": "35784626",
   "metadata": {},
   "outputs": [],
   "source": []
  }
 ],
 "metadata": {
  "kernelspec": {
   "display_name": "Python 3",
   "language": "python",
   "name": "python3"
  },
  "language_info": {
   "codemirror_mode": {
    "name": "ipython",
    "version": 3
   },
   "file_extension": ".py",
   "mimetype": "text/x-python",
   "name": "python",
   "nbconvert_exporter": "python",
   "pygments_lexer": "ipython3",
   "version": "3.8.8"
  }
 },
 "nbformat": 4,
 "nbformat_minor": 5
}
